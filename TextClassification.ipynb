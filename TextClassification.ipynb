{
 "cells": [
  {
   "cell_type": "markdown",
   "id": "301422b6",
   "metadata": {},
   "source": [
    "# Text Classification using Spacy"
   ]
  },
  {
   "cell_type": "markdown",
   "id": "1f65d531",
   "metadata": {},
   "source": [
    "### Data Cleaning Functions"
   ]
  },
  {
   "cell_type": "code",
   "execution_count": 2,
   "id": "81912883",
   "metadata": {},
   "outputs": [],
   "source": [
    "def remove_emoji(text):\n",
    "    emoji_pattern = re.compile(\"[\"\n",
    "                           u\"\\U0001F600-\\U0001F64F\"  # emoticons\n",
    "                           u\"\\U0001F300-\\U0001F5FF\"  # symbols & pictographs\n",
    "                           u\"\\U0001F680-\\U0001F6FF\"  # transport & map symbols\n",
    "                           u\"\\U0001F1E0-\\U0001F1FF\"  # flags (iOS)\n",
    "                           u\"\\U00002702-\\U000027B0\"\n",
    "                           u\"\\U000024C2-\\U0001F251\"\n",
    "                           \"]+\", flags=re.UNICODE)\n",
    "    return emoji_pattern.sub(r'', text)\n",
    "\n",
    "def remove_url(text): \n",
    "    url_pattern  = re.compile('http[s]?://(?:[a-zA-Z]|[0-9]|[$-_@.&+]|[!*\\(\\),]|(?:%[0-9a-fA-F][0-9a-fA-F]))+')\n",
    "    return url_pattern.sub(r'', text)\n",
    " # converting return value from list to string\n",
    "\n",
    "\n",
    "\n",
    "def clean_text(text ): \n",
    "    delete_dict = {sp_character: '' for sp_character in string.punctuation} \n",
    "    delete_dict[' '] = ' ' \n",
    "    table = str.maketrans(delete_dict)\n",
    "    text1 = text.translate(table)\n",
    "    #print('cleaned:'+text1)\n",
    "    textArr= text1.split()\n",
    "    text2 = ' '.join([w for w in textArr if ( not w.isdigit() and  ( not w.isdigit() and len(w)>3))]) \n",
    "    \n",
    "    return text2.lower()\n",
    "\n",
    "\n",
    "def cln(text):\n",
    "    return text.strip('joebiden ')"
   ]
  },
  {
   "cell_type": "code",
   "execution_count": 3,
   "id": "5b3ec892",
   "metadata": {},
   "outputs": [],
   "source": [
    "def make_docs(file_path):\n",
    "    \"\"\"\n",
    "    this will take a list of texts and labels \n",
    "    and transform them in spacy documents\n",
    "    \n",
    "    data: list(tuple(text, label))\n",
    "    \n",
    "    returns: List(spacy.Doc.doc)\n",
    "    \"\"\"\n",
    "    train_data = pd.read_csv(file_path)\n",
    "    train_data.dropna(axis = 0, how ='any',inplace=True) \n",
    "    train_data['Num_words_text'] = train_data['text'].apply(lambda x:len(str(x).split())) \n",
    "    mask = train_data['Num_words_text'] >2\n",
    "    train_data = train_data[mask]\n",
    "    print(train_data['sentiment'].value_counts())\n",
    "    \n",
    "    train_data['text'] = train_data['text'].apply(remove_emoji)\n",
    "    train_data['text'] = train_data['text'].apply(remove_url)\n",
    "    train_data['text'] = train_data['text'].apply(clean_text)\n",
    "   \n",
    "    data = tuple(zip(train_data['text'].tolist(), train_data['sentiment'].tolist())) \n",
    "    print(data[1])\n",
    "    docs = []\n",
    "    # nlp.pipe([texts]) is way faster than running \n",
    "    # nlp(text) for each text\n",
    "    # as_tuples allows us to pass in a tuple, \n",
    "    # the first one is treated as text\n",
    "    # the second one will get returned as it is.\n",
    "    nlp = spacy.load(\"en_core_web_trf\")\n",
    "    for doc, label in tqdm(nlp.pipe(data, as_tuples=True), total = len(data)):\n",
    "        \n",
    "        # we need to set the (text)cat(egory) for each document\n",
    "        #print(label)\n",
    "        if (label=='positive'):\n",
    "            doc.cats['positive'] = 1\n",
    "            doc.cats['negative'] = 0\n",
    "            doc.cats['neutral']  = 0\n",
    "        elif (label=='negative'):\n",
    "            doc.cats['positive'] = 0\n",
    "            doc.cats['negative'] = 1\n",
    "            doc.cats['neutral']  = 0\n",
    "        else:\n",
    "            doc.cats['positive'] = 0\n",
    "            doc.cats['negative'] = 0\n",
    "            doc.cats['neutral']  = 1\n",
    "        #print(doc.cats)\n",
    "        \n",
    "        # put them into a nice list\n",
    "        docs.append(doc)\n",
    "    \n",
    "    return docs,train_data"
   ]
  },
  {
   "cell_type": "markdown",
   "id": "849a9da0",
   "metadata": {},
   "source": [
    "### Training Model "
   ]
  },
  {
   "cell_type": "code",
   "execution_count": 4,
   "id": "07ebbfaf",
   "metadata": {},
   "outputs": [],
   "source": [
    "#Import all required libraries\n",
    "import spacy\n",
    "import random\n",
    "import time\n",
    "import numpy as np\n",
    "import pandas as pd\n",
    "import re\n",
    "import string\n",
    "\n",
    "\n",
    "import sys\n",
    "from spacy import displacy\n",
    "\n",
    "from tqdm.auto import tqdm\n",
    "from spacy.tokens import DocBin"
   ]
  },
  {
   "cell_type": "code",
   "execution_count": 5,
   "id": "65f9c7a2",
   "metadata": {},
   "outputs": [
    {
     "name": "stdout",
     "output_type": "stream",
     "text": [
      "neutral     10704\n",
      "positive     8375\n",
      "negative     7673\n",
      "Name: sentiment, dtype: int64\n",
      "('sooo will miss here diego', 'negative')\n"
     ]
    },
    {
     "name": "stderr",
     "output_type": "stream",
     "text": [
      "C:\\Users\\admin\\AppData\\Roaming\\Python\\Python37\\site-packages\\spacy\\util.py:693: UserWarning: [W095] Model 'en_core_web_trf' (3.0.0) requires spaCy >=3.0.0,<3.1.0 and is incompatible with the current version (3.0.0rc5). This may lead to unexpected results or runtime errors. To resolve this, download a newer compatible model or retrain your custom model with the current spaCy version. For more details and available updates, run: python -m spacy validate\n",
      "  warnings.warn(warn_msg)\n"
     ]
    },
    {
     "data": {
      "application/vnd.jupyter.widget-view+json": {
       "model_id": "f0d109f29199464a89163b2487646917",
       "version_major": 2,
       "version_minor": 0
      },
      "text/plain": [
       "  0%|          | 0/26752 [00:00<?, ?it/s]"
      ]
     },
     "metadata": {},
     "output_type": "display_data"
    },
    {
     "name": "stderr",
     "output_type": "stream",
     "text": [
      "c:\\users\\admin\\appdata\\local\\programs\\python\\python37\\lib\\site-packages\\torch\\autocast_mode.py:141: UserWarning: User provided device_type of 'cuda', but CUDA is not available. Disabling\n",
      "  warnings.warn('User provided device_type of \\'cuda\\', but CUDA is not available. Disabling')\n"
     ]
    },
    {
     "name": "stdout",
     "output_type": "stream",
     "text": [
      "neutral     1376\n",
      "positive    1075\n",
      "negative     983\n",
      "Name: sentiment, dtype: int64\n",
      "('shanghai also really exciting precisely skyscrapers galore good tweeps china', 'positive')\n"
     ]
    },
    {
     "name": "stderr",
     "output_type": "stream",
     "text": [
      "C:\\Users\\admin\\AppData\\Roaming\\Python\\Python37\\site-packages\\spacy\\util.py:693: UserWarning: [W095] Model 'en_core_web_trf' (3.0.0) requires spaCy >=3.0.0,<3.1.0 and is incompatible with the current version (3.0.0rc5). This may lead to unexpected results or runtime errors. To resolve this, download a newer compatible model or retrain your custom model with the current spaCy version. For more details and available updates, run: python -m spacy validate\n",
      "  warnings.warn(warn_msg)\n"
     ]
    },
    {
     "data": {
      "application/vnd.jupyter.widget-view+json": {
       "model_id": "3a5ebae2c69a473db7dd78493ea43c90",
       "version_major": 2,
       "version_minor": 0
      },
      "text/plain": [
       "  0%|          | 0/3434 [00:00<?, ?it/s]"
      ]
     },
     "metadata": {},
     "output_type": "display_data"
    }
   ],
   "source": [
    "train_docs,train_data  = make_docs(\"C:\\\\Users\\\\admin\\\\Downloads\\\\TweetSentiment\\\\train.csv\")\n",
    "# then we save it in a binary file to disc\n",
    "doc_bin = DocBin(docs=train_docs)\n",
    "doc_bin.to_disk(\"./textcat_train.spacy\")\n",
    "\n",
    "test_docs,test_data  = make_docs(\"C:\\\\Users\\\\admin\\\\Downloads\\\\TweetSentiment\\\\test.csv\")\n",
    "# then we save it in a binary file to disc\n",
    "doc_bin = DocBin(docs=test_docs)\n",
    "doc_bin.to_disk(\"./textcat_valid.spacy\")"
   ]
  },
  {
   "cell_type": "code",
   "execution_count": 6,
   "id": "937ec196",
   "metadata": {},
   "outputs": [
    {
     "name": "stdout",
     "output_type": "stream",
     "text": [
      "[+] Auto-filled config with all values\n",
      "[+] Saved config\n",
      "textcat_config.cfg\n",
      "You can now add your data and train your pipeline:\n",
      "python -m spacy train textcat_config.cfg --paths.train ./train.spacy --paths.dev ./dev.spacy\n"
     ]
    }
   ],
   "source": [
    "!python -m spacy init fill-config ./base_config.cfg ./textcat_config.cfg"
   ]
  },
  {
   "cell_type": "code",
   "execution_count": 7,
   "id": "cce2f5ff",
   "metadata": {},
   "outputs": [
    {
     "name": "stdout",
     "output_type": "stream",
     "text": [
      "^C\n"
     ]
    }
   ],
   "source": [
    "!python -m spacy train textcat_config.cfg --verbose --output ./textcat_output --paths.train ./textcat_train.spacy --paths.dev ./textcat_valid.spacy"
   ]
  },
  {
   "cell_type": "code",
   "execution_count": 8,
   "id": "54c726a2",
   "metadata": {},
   "outputs": [
    {
     "name": "stdout",
     "output_type": "stream",
     "text": [
      "Text: want david cook\n",
      "Orig Cat:positive\n",
      " Predicted Cats:\n",
      "{'positive': 0.056886833161115646, 'negative': 0.11615290492773056, 'neutral': 0.8269602656364441}\n",
      "=======================================\n",
      "Text: okaii cool cant wait series begin guna awesome\n",
      " Orig Cat:positive\n",
      " Predicted Cats:\n",
      "{'positive': 0.962588369846344, 'negative': 0.008430661633610725, 'neutral': 0.028981054201722145}\n"
     ]
    }
   ],
   "source": [
    "nlp_textcat = spacy.load(\"textcat_output/model-best\")\n",
    "test_texts = test_data['text'].tolist()\n",
    "test_cats = test_data['sentiment'].tolist()\n",
    "doc2 = nlp_textcat(test_texts[100])\n",
    "print(\"Text: \"+ test_texts[100])\n",
    "print(\"Orig Cat:\"+ test_cats[100])\n",
    "print(\" Predicted Cats:\") \n",
    "print(doc2.cats)\n",
    "print(\"=======================================\")\n",
    "doc2 = nlp_textcat(test_texts[1000])\n",
    "print(\"Text: \"+ test_texts[1000])\n",
    "print(\" Orig Cat:\"+test_cats[1000])\n",
    "print(\" Predicted Cats:\") \n",
    "print(doc2.cats)"
   ]
  },
  {
   "cell_type": "code",
   "execution_count": 9,
   "id": "33a88cee",
   "metadata": {},
   "outputs": [
    {
     "name": "stdout",
     "output_type": "stream",
     "text": [
      "{'positive': 0.9449284672737122, 'negative': 0.012233531102538109, 'neutral': 0.04283810034394264}\n"
     ]
    }
   ],
   "source": [
    "doc2 = nlp_textcat(\"It was very good.\")\n",
    "print(doc2.cats)"
   ]
  },
  {
   "cell_type": "markdown",
   "id": "65e8a944",
   "metadata": {},
   "source": [
    "### Testing"
   ]
  },
  {
   "cell_type": "code",
   "execution_count": 5,
   "id": "2db875cd",
   "metadata": {},
   "outputs": [],
   "source": [
    "df = pd.read_csv(\"C:/Users/admin/Downloads/Bidenall2.csv\")"
   ]
  },
  {
   "cell_type": "code",
   "execution_count": 6,
   "id": "d4b82f89",
   "metadata": {},
   "outputs": [
    {
     "data": {
      "text/html": [
       "<div>\n",
       "<style scoped>\n",
       "    .dataframe tbody tr th:only-of-type {\n",
       "        vertical-align: middle;\n",
       "    }\n",
       "\n",
       "    .dataframe tbody tr th {\n",
       "        vertical-align: top;\n",
       "    }\n",
       "\n",
       "    .dataframe thead th {\n",
       "        text-align: right;\n",
       "    }\n",
       "</style>\n",
       "<table border=\"1\" class=\"dataframe\">\n",
       "  <thead>\n",
       "    <tr style=\"text-align: right;\">\n",
       "      <th></th>\n",
       "      <th>user</th>\n",
       "      <th>text</th>\n",
       "    </tr>\n",
       "  </thead>\n",
       "  <tbody>\n",
       "    <tr>\n",
       "      <th>0</th>\n",
       "      <td>MarkHodder3</td>\n",
       "      <td>@JoeBiden And we’ll find out who won in 2026...</td>\n",
       "    </tr>\n",
       "    <tr>\n",
       "      <th>1</th>\n",
       "      <td>K87327961G</td>\n",
       "      <td>@JoeBiden Your Democratic Nazi Party cannot be...</td>\n",
       "    </tr>\n",
       "    <tr>\n",
       "      <th>2</th>\n",
       "      <td>OldlaceA</td>\n",
       "      <td>@JoeBiden So did Lying Barr</td>\n",
       "    </tr>\n",
       "    <tr>\n",
       "      <th>3</th>\n",
       "      <td>penblogger</td>\n",
       "      <td>@JoeBiden It's clear you didnt compose this tw...</td>\n",
       "    </tr>\n",
       "    <tr>\n",
       "      <th>4</th>\n",
       "      <td>Aquarian0264</td>\n",
       "      <td>@JoeBiden I will vote in person thank you.</td>\n",
       "    </tr>\n",
       "  </tbody>\n",
       "</table>\n",
       "</div>"
      ],
      "text/plain": [
       "           user                                               text\n",
       "0   MarkHodder3    @JoeBiden And we’ll find out who won in 2026...\n",
       "1    K87327961G  @JoeBiden Your Democratic Nazi Party cannot be...\n",
       "2      OldlaceA                        @JoeBiden So did Lying Barr\n",
       "3    penblogger  @JoeBiden It's clear you didnt compose this tw...\n",
       "4  Aquarian0264         @JoeBiden I will vote in person thank you."
      ]
     },
     "execution_count": 6,
     "metadata": {},
     "output_type": "execute_result"
    }
   ],
   "source": [
    "df.head()"
   ]
  },
  {
   "cell_type": "code",
   "execution_count": 7,
   "id": "70c65844",
   "metadata": {},
   "outputs": [
    {
     "name": "stderr",
     "output_type": "stream",
     "text": [
      "c:\\users\\admin\\appdata\\local\\programs\\python\\python37\\lib\\site-packages\\torch\\autocast_mode.py:141: UserWarning: User provided device_type of 'cuda', but CUDA is not available. Disabling\n",
      "  warnings.warn('User provided device_type of \\'cuda\\', but CUDA is not available. Disabling')\n"
     ]
    },
    {
     "name": "stdout",
     "output_type": "stream",
     "text": [
      "{'positive': 0.95525062084198, 'negative': 0.010123094543814659, 'neutral': 0.03462628647685051}\n"
     ]
    }
   ],
   "source": [
    "import spacy\n",
    "nlp_textcat = spacy.load(\"textcat_output/model-best\")\n",
    "doc2 = nlp_textcat(\"It was the best ever.\")\n",
    "print(doc2.cats)"
   ]
  },
  {
   "cell_type": "code",
   "execution_count": 8,
   "id": "7197125a",
   "metadata": {},
   "outputs": [],
   "source": [
    "def anal(text):\n",
    "    doc3 = nlp_textcat(text)\n",
    "    doc2 = doc3.cats\n",
    "    m = max(doc2['positive'],doc2['negative'],doc2['neutral'])\n",
    "    if m==doc2['positive']:\n",
    "        return 'positive'\n",
    "    elif m==doc2['negative']:\n",
    "        return 'negative'\n",
    "    else:\n",
    "        return 'neutral'"
   ]
  },
  {
   "cell_type": "code",
   "execution_count": 9,
   "id": "91a1c07b",
   "metadata": {},
   "outputs": [],
   "source": [
    "df['text'] = df['text'].apply(remove_emoji)\n",
    "df['text'] = df['text'].apply(remove_url)\n",
    "df['text'] = df['text'].apply(clean_text)\n",
    "df['text'] = df['text'].apply(cln)"
   ]
  },
  {
   "cell_type": "code",
   "execution_count": 11,
   "id": "b0e19950",
   "metadata": {},
   "outputs": [],
   "source": [
    "df['detected_sentiment'] = df.text.apply(anal)"
   ]
  },
  {
   "cell_type": "code",
   "execution_count": 12,
   "id": "60772601",
   "metadata": {},
   "outputs": [
    {
     "data": {
      "text/plain": [
       "neutral     1148\n",
       "negative     819\n",
       "positive     573\n",
       "Name: detected_sentiment, dtype: int64"
      ]
     },
     "execution_count": 12,
     "metadata": {},
     "output_type": "execute_result"
    }
   ],
   "source": [
    "df['detected_sentiment'].value_counts()"
   ]
  },
  {
   "cell_type": "code",
   "execution_count": 13,
   "id": "bbbc216e",
   "metadata": {},
   "outputs": [
    {
     "data": {
      "text/html": [
       "<div>\n",
       "<style scoped>\n",
       "    .dataframe tbody tr th:only-of-type {\n",
       "        vertical-align: middle;\n",
       "    }\n",
       "\n",
       "    .dataframe tbody tr th {\n",
       "        vertical-align: top;\n",
       "    }\n",
       "\n",
       "    .dataframe thead th {\n",
       "        text-align: right;\n",
       "    }\n",
       "</style>\n",
       "<table border=\"1\" class=\"dataframe\">\n",
       "  <thead>\n",
       "    <tr style=\"text-align: right;\">\n",
       "      <th></th>\n",
       "      <th>user</th>\n",
       "      <th>text</th>\n",
       "      <th>detected_sentiment</th>\n",
       "    </tr>\n",
       "  </thead>\n",
       "  <tbody>\n",
       "    <tr>\n",
       "      <th>0</th>\n",
       "      <td>MarkHodder3</td>\n",
       "      <td>we’ll f</td>\n",
       "      <td>neutral</td>\n",
       "    </tr>\n",
       "    <tr>\n",
       "      <th>1</th>\n",
       "      <td>K87327961G</td>\n",
       "      <td>your democratic nazi party cannot trust</td>\n",
       "      <td>negative</td>\n",
       "    </tr>\n",
       "    <tr>\n",
       "      <th>2</th>\n",
       "      <td>OldlaceA</td>\n",
       "      <td>lying barr</td>\n",
       "      <td>neutral</td>\n",
       "    </tr>\n",
       "    <tr>\n",
       "      <th>3</th>\n",
       "      <td>penblogger</td>\n",
       "      <td>clear didnt compose this tweet cant sentence t...</td>\n",
       "      <td>neutral</td>\n",
       "    </tr>\n",
       "    <tr>\n",
       "      <th>4</th>\n",
       "      <td>Aquarian0264</td>\n",
       "      <td>will vote person thank</td>\n",
       "      <td>positive</td>\n",
       "    </tr>\n",
       "  </tbody>\n",
       "</table>\n",
       "</div>"
      ],
      "text/plain": [
       "           user                                               text  \\\n",
       "0   MarkHodder3                                            we’ll f   \n",
       "1    K87327961G            your democratic nazi party cannot trust   \n",
       "2      OldlaceA                                         lying barr   \n",
       "3    penblogger  clear didnt compose this tweet cant sentence t...   \n",
       "4  Aquarian0264                             will vote person thank   \n",
       "\n",
       "  detected_sentiment  \n",
       "0            neutral  \n",
       "1           negative  \n",
       "2            neutral  \n",
       "3            neutral  \n",
       "4           positive  "
      ]
     },
     "execution_count": 13,
     "metadata": {},
     "output_type": "execute_result"
    }
   ],
   "source": [
    "df.head()"
   ]
  },
  {
   "cell_type": "code",
   "execution_count": 17,
   "id": "6457fcdd",
   "metadata": {},
   "outputs": [
    {
     "data": {
      "text/plain": [
       "<AxesSubplot:>"
      ]
     },
     "execution_count": 17,
     "metadata": {},
     "output_type": "execute_result"
    },
    {
     "data": {
      "image/png": "[encoded data removed]",
      "text/plain": [
       "<Figure size 1152x432 with 1 Axes>"
      ]
     },
     "metadata": {
      "needs_background": "light"
     },
     "output_type": "display_data"
    }
   ],
   "source": [
    "# Grouped Barplot\n",
    "import seaborn as sns\n",
    "import matplotlib.pyplot as plt\n",
    "plt.figure(figsize=(16,6))\n",
    "val=[1148, 819, 573]\n",
    "senti = ['Neutral', 'Negative', 'Positive']\n",
    "sns.barplot(x=senti, y=val, data=df)"
   ]
  }
 ],
 "metadata": {
  "kernelspec": {
   "display_name": "Python 3 (ipykernel)",
   "language": "python",
   "name": "python3"
  },
  "language_info": {
   "codemirror_mode": {
    "name": "ipython",
    "version": 3
   },
   "file_extension": ".py",
   "mimetype": "text/x-python",
   "name": "python",
   "nbconvert_exporter": "python",
   "pygments_lexer": "ipython3",
   "version": "3.7.6"
  }
 },
 "nbformat": 4,
 "nbformat_minor": 5
}
