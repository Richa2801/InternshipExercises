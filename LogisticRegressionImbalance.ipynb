{
 "cells": [
  {
   "cell_type": "markdown",
   "id": "455041de",
   "metadata": {},
   "source": [
    "# Credit Fraud Imbalanced Dataset\n",
    "\n",
    "This is an imbalanced dataset consists the details of its clients and the target column tells us whether that person has experienced a Fraud (1) or not (0).\n",
    "It consists of the following attributes:\n",
    "\n",
    "1   ID              \n",
    "2   GENDER          \n",
    "3   CAR             \n",
    "4   REALITY         \n",
    "5   NO_OF_CHILD      \n",
    "6   INCOME          \n",
    "7   INCOME_TYPE     \n",
    "8   EDUCATION_TYPE  \n",
    "9   FAMILY_TYPE     \n",
    "10  HOUSE_TYPE     \n",
    "11  FLAG_MOBIL       \n",
    "12  WORK_PHONE       \n",
    "13  PHONE            \n",
    "14  E_MAIL          \n",
    "15  FAMILY SIZE     \n",
    "16  BEGIN_MONTH       \n",
    "17  AGE              \n",
    "18  YEARS_EMPLOYED   \n",
    "19  TARGET\n",
    "\n",
    "### Objective\n",
    "The objective of this notebook is to predict whether a given customer will experience a fraud or not using Logistic Regression and SMOTE undersampling and oversampling.\n",
    "\n",
    "### Tools Required\n",
    "Python\n",
    "Jupyter Notebook\n",
    "\n",
    "### Libraries Used\n",
    "1. Pandas\n",
    "2. train_test_split\n",
    "3. Ordinal_Encoder\n",
    "4. LogisticRegression\n",
    "5. accuracy_score\n",
    "6. sklearn\n",
    "7. confusion_matrix\n",
    "8. precision_recall_fscore_support\n",
    "9. SMOTE\n",
    "10. RandomUnderSampler\n",
    "11. Pipeline\n",
    "12. imblearn"
   ]
  },
  {
   "cell_type": "code",
   "execution_count": 1,
   "id": "dc428558",
   "metadata": {},
   "outputs": [],
   "source": [
    "import pandas as pd"
   ]
  },
  {
   "cell_type": "code",
   "execution_count": 2,
   "id": "2adb10e6",
   "metadata": {},
   "outputs": [],
   "source": [
    "# Reading the dataset\n",
    "df = pd.read_csv('C:/Users/admin/Downloads/credit_dataset.csv')"
   ]
  },
  {
   "cell_type": "code",
   "execution_count": 3,
   "id": "ecf772e7",
   "metadata": {},
   "outputs": [
    {
     "name": "stdout",
     "output_type": "stream",
     "text": [
      "<class 'pandas.core.frame.DataFrame'>\n",
      "RangeIndex: 25134 entries, 0 to 25133\n",
      "Data columns (total 20 columns):\n",
      " #   Column          Non-Null Count  Dtype  \n",
      "---  ------          --------------  -----  \n",
      " 0   Unnamed: 0      25134 non-null  int64  \n",
      " 1   ID              25134 non-null  int64  \n",
      " 2   GENDER          25134 non-null  object \n",
      " 3   CAR             25134 non-null  object \n",
      " 4   REALITY         25134 non-null  object \n",
      " 5   NO_OF_CHILD     25134 non-null  int64  \n",
      " 6   INCOME          25134 non-null  float64\n",
      " 7   INCOME_TYPE     25134 non-null  object \n",
      " 8   EDUCATION_TYPE  25134 non-null  object \n",
      " 9   FAMILY_TYPE     25134 non-null  object \n",
      " 10  HOUSE_TYPE      25134 non-null  object \n",
      " 11  FLAG_MOBIL      25134 non-null  int64  \n",
      " 12  WORK_PHONE      25134 non-null  int64  \n",
      " 13  PHONE           25134 non-null  int64  \n",
      " 14  E_MAIL          25134 non-null  int64  \n",
      " 15  FAMILY SIZE     25134 non-null  float64\n",
      " 16  BEGIN_MONTH     25134 non-null  int64  \n",
      " 17  AGE             25134 non-null  int64  \n",
      " 18  YEARS_EMPLOYED  25134 non-null  int64  \n",
      " 19  TARGET          25134 non-null  int64  \n",
      "dtypes: float64(2), int64(11), object(7)\n",
      "memory usage: 3.8+ MB\n"
     ]
    }
   ],
   "source": [
    "# Having a look at the datatypes of the columns and finding null values\n",
    "df.info()"
   ]
  },
  {
   "cell_type": "code",
   "execution_count": 4,
   "id": "d8ce149f",
   "metadata": {},
   "outputs": [
    {
     "data": {
      "text/html": [
       "<div>\n",
       "<style scoped>\n",
       "    .dataframe tbody tr th:only-of-type {\n",
       "        vertical-align: middle;\n",
       "    }\n",
       "\n",
       "    .dataframe tbody tr th {\n",
       "        vertical-align: top;\n",
       "    }\n",
       "\n",
       "    .dataframe thead th {\n",
       "        text-align: right;\n",
       "    }\n",
       "</style>\n",
       "<table border=\"1\" class=\"dataframe\">\n",
       "  <thead>\n",
       "    <tr style=\"text-align: right;\">\n",
       "      <th></th>\n",
       "      <th>Unnamed: 0</th>\n",
       "      <th>ID</th>\n",
       "      <th>GENDER</th>\n",
       "      <th>CAR</th>\n",
       "      <th>REALITY</th>\n",
       "      <th>NO_OF_CHILD</th>\n",
       "      <th>INCOME</th>\n",
       "      <th>INCOME_TYPE</th>\n",
       "      <th>EDUCATION_TYPE</th>\n",
       "      <th>FAMILY_TYPE</th>\n",
       "      <th>HOUSE_TYPE</th>\n",
       "      <th>FLAG_MOBIL</th>\n",
       "      <th>WORK_PHONE</th>\n",
       "      <th>PHONE</th>\n",
       "      <th>E_MAIL</th>\n",
       "      <th>FAMILY SIZE</th>\n",
       "      <th>BEGIN_MONTH</th>\n",
       "      <th>AGE</th>\n",
       "      <th>YEARS_EMPLOYED</th>\n",
       "      <th>TARGET</th>\n",
       "    </tr>\n",
       "  </thead>\n",
       "  <tbody>\n",
       "    <tr>\n",
       "      <th>0</th>\n",
       "      <td>0</td>\n",
       "      <td>5008806</td>\n",
       "      <td>M</td>\n",
       "      <td>Y</td>\n",
       "      <td>Y</td>\n",
       "      <td>0</td>\n",
       "      <td>112500.0</td>\n",
       "      <td>Working</td>\n",
       "      <td>Secondary / secondary special</td>\n",
       "      <td>Married</td>\n",
       "      <td>House / apartment</td>\n",
       "      <td>1</td>\n",
       "      <td>0</td>\n",
       "      <td>0</td>\n",
       "      <td>0</td>\n",
       "      <td>2.0</td>\n",
       "      <td>29</td>\n",
       "      <td>59</td>\n",
       "      <td>3</td>\n",
       "      <td>0</td>\n",
       "    </tr>\n",
       "    <tr>\n",
       "      <th>1</th>\n",
       "      <td>1</td>\n",
       "      <td>5008808</td>\n",
       "      <td>F</td>\n",
       "      <td>N</td>\n",
       "      <td>Y</td>\n",
       "      <td>0</td>\n",
       "      <td>270000.0</td>\n",
       "      <td>Commercial associate</td>\n",
       "      <td>Secondary / secondary special</td>\n",
       "      <td>Single / not married</td>\n",
       "      <td>House / apartment</td>\n",
       "      <td>1</td>\n",
       "      <td>0</td>\n",
       "      <td>1</td>\n",
       "      <td>1</td>\n",
       "      <td>1.0</td>\n",
       "      <td>4</td>\n",
       "      <td>52</td>\n",
       "      <td>8</td>\n",
       "      <td>0</td>\n",
       "    </tr>\n",
       "    <tr>\n",
       "      <th>2</th>\n",
       "      <td>2</td>\n",
       "      <td>5008809</td>\n",
       "      <td>F</td>\n",
       "      <td>N</td>\n",
       "      <td>Y</td>\n",
       "      <td>0</td>\n",
       "      <td>270000.0</td>\n",
       "      <td>Commercial associate</td>\n",
       "      <td>Secondary / secondary special</td>\n",
       "      <td>Single / not married</td>\n",
       "      <td>House / apartment</td>\n",
       "      <td>1</td>\n",
       "      <td>0</td>\n",
       "      <td>1</td>\n",
       "      <td>1</td>\n",
       "      <td>1.0</td>\n",
       "      <td>26</td>\n",
       "      <td>52</td>\n",
       "      <td>8</td>\n",
       "      <td>0</td>\n",
       "    </tr>\n",
       "    <tr>\n",
       "      <th>3</th>\n",
       "      <td>3</td>\n",
       "      <td>5008810</td>\n",
       "      <td>F</td>\n",
       "      <td>N</td>\n",
       "      <td>Y</td>\n",
       "      <td>0</td>\n",
       "      <td>270000.0</td>\n",
       "      <td>Commercial associate</td>\n",
       "      <td>Secondary / secondary special</td>\n",
       "      <td>Single / not married</td>\n",
       "      <td>House / apartment</td>\n",
       "      <td>1</td>\n",
       "      <td>0</td>\n",
       "      <td>1</td>\n",
       "      <td>1</td>\n",
       "      <td>1.0</td>\n",
       "      <td>26</td>\n",
       "      <td>52</td>\n",
       "      <td>8</td>\n",
       "      <td>0</td>\n",
       "    </tr>\n",
       "    <tr>\n",
       "      <th>4</th>\n",
       "      <td>4</td>\n",
       "      <td>5008811</td>\n",
       "      <td>F</td>\n",
       "      <td>N</td>\n",
       "      <td>Y</td>\n",
       "      <td>0</td>\n",
       "      <td>270000.0</td>\n",
       "      <td>Commercial associate</td>\n",
       "      <td>Secondary / secondary special</td>\n",
       "      <td>Single / not married</td>\n",
       "      <td>House / apartment</td>\n",
       "      <td>1</td>\n",
       "      <td>0</td>\n",
       "      <td>1</td>\n",
       "      <td>1</td>\n",
       "      <td>1.0</td>\n",
       "      <td>38</td>\n",
       "      <td>52</td>\n",
       "      <td>8</td>\n",
       "      <td>0</td>\n",
       "    </tr>\n",
       "  </tbody>\n",
       "</table>\n",
       "</div>"
      ],
      "text/plain": [
       "   Unnamed: 0       ID GENDER CAR REALITY  NO_OF_CHILD    INCOME  \\\n",
       "0           0  5008806      M   Y       Y            0  112500.0   \n",
       "1           1  5008808      F   N       Y            0  270000.0   \n",
       "2           2  5008809      F   N       Y            0  270000.0   \n",
       "3           3  5008810      F   N       Y            0  270000.0   \n",
       "4           4  5008811      F   N       Y            0  270000.0   \n",
       "\n",
       "            INCOME_TYPE                 EDUCATION_TYPE           FAMILY_TYPE  \\\n",
       "0               Working  Secondary / secondary special               Married   \n",
       "1  Commercial associate  Secondary / secondary special  Single / not married   \n",
       "2  Commercial associate  Secondary / secondary special  Single / not married   \n",
       "3  Commercial associate  Secondary / secondary special  Single / not married   \n",
       "4  Commercial associate  Secondary / secondary special  Single / not married   \n",
       "\n",
       "          HOUSE_TYPE  FLAG_MOBIL  WORK_PHONE  PHONE  E_MAIL  FAMILY SIZE  \\\n",
       "0  House / apartment           1           0      0       0          2.0   \n",
       "1  House / apartment           1           0      1       1          1.0   \n",
       "2  House / apartment           1           0      1       1          1.0   \n",
       "3  House / apartment           1           0      1       1          1.0   \n",
       "4  House / apartment           1           0      1       1          1.0   \n",
       "\n",
       "   BEGIN_MONTH  AGE  YEARS_EMPLOYED  TARGET  \n",
       "0           29   59               3       0  \n",
       "1            4   52               8       0  \n",
       "2           26   52               8       0  \n",
       "3           26   52               8       0  \n",
       "4           38   52               8       0  "
      ]
     },
     "execution_count": 4,
     "metadata": {},
     "output_type": "execute_result"
    }
   ],
   "source": [
    "# Having a look at the dataset\n",
    "df.head()"
   ]
  },
  {
   "cell_type": "code",
   "execution_count": 5,
   "id": "1a8aeb39",
   "metadata": {},
   "outputs": [
    {
     "data": {
      "text/plain": [
       "0    24712\n",
       "1      422\n",
       "Name: TARGET, dtype: int64"
      ]
     },
     "execution_count": 5,
     "metadata": {},
     "output_type": "execute_result"
    }
   ],
   "source": [
    "# Verifying that this is a imbalanced dataset\n",
    "df.TARGET.value_counts()"
   ]
  },
  {
   "cell_type": "code",
   "execution_count": 6,
   "id": "58709566",
   "metadata": {},
   "outputs": [],
   "source": [
    "# Converting into type int for simplicity\n",
    "df['FAMILY SIZE'] = df['FAMILY SIZE'].astype(int)"
   ]
  },
  {
   "cell_type": "code",
   "execution_count": 7,
   "id": "30377444",
   "metadata": {},
   "outputs": [],
   "source": [
    "# Choosing features and Target for training and testing\n",
    "X = df.copy()\n",
    "y = X.pop('TARGET')"
   ]
  },
  {
   "cell_type": "code",
   "execution_count": 8,
   "id": "b994305b",
   "metadata": {},
   "outputs": [],
   "source": [
    "# Splitting the dataset into train and test\n",
    "from sklearn.model_selection import train_test_split\n",
    "xtrain, xtest, ytrain, ytest = train_test_split(X, y, test_size = 0.25, random_state = 0)"
   ]
  },
  {
   "cell_type": "code",
   "execution_count": 9,
   "id": "bfe21dec",
   "metadata": {},
   "outputs": [],
   "source": [
    "# Ordinal Encoding for Categorical variables\n",
    "from sklearn.preprocessing import OrdinalEncoder\n",
    "ordinal_encoder = OrdinalEncoder()\n",
    "s = (xtrain.dtypes == 'object')\n",
    "object_cols = list(s[s].index)\n",
    "label_x_train = xtrain.copy()\n",
    "label_x_test = xtest.copy()\n",
    "label_x_train[object_cols] = ordinal_encoder.fit_transform(xtrain[object_cols])\n",
    "label_x_test[object_cols] = ordinal_encoder.transform(xtest[object_cols])"
   ]
  },
  {
   "cell_type": "code",
   "execution_count": 10,
   "id": "7032902a",
   "metadata": {},
   "outputs": [
    {
     "data": {
      "text/plain": [
       "LogisticRegression(class_weight='balanced', random_state=0)"
      ]
     },
     "execution_count": 10,
     "metadata": {},
     "output_type": "execute_result"
    }
   ],
   "source": [
    "# Logistic Regression modelling\n",
    "from sklearn.linear_model import LogisticRegression\n",
    "classifier = LogisticRegression(random_state = 0, class_weight='balanced')\n",
    "classifier.fit(label_x_train, ytrain)"
   ]
  },
  {
   "cell_type": "code",
   "execution_count": 11,
   "id": "f66326b2",
   "metadata": {},
   "outputs": [],
   "source": [
    "# Making predictions\n",
    "y_pred = classifier.predict(label_x_test)"
   ]
  },
  {
   "cell_type": "code",
   "execution_count": 12,
   "id": "9c99c628",
   "metadata": {},
   "outputs": [
    {
     "name": "stdout",
     "output_type": "stream",
     "text": [
      "Accuracy :  0.6871419478039466\n"
     ]
    }
   ],
   "source": [
    "# Evaluating the model\n",
    "from sklearn.metrics import accuracy_score\n",
    "print (\"Accuracy : \", accuracy_score(ytest, y_pred))"
   ]
  },
  {
   "cell_type": "code",
   "execution_count": 13,
   "id": "a345b47b",
   "metadata": {
    "scrolled": true
   },
   "outputs": [
    {
     "name": "stdout",
     "output_type": "stream",
     "text": [
      "Confusion Matrix : \n",
      " [[4232 1945]\n",
      " [  21   86]]\n"
     ]
    }
   ],
   "source": [
    "# Confusion Matrix\n",
    "from sklearn.metrics import confusion_matrix\n",
    "cm = confusion_matrix(ytest, y_pred)\n",
    "  \n",
    "print (\"Confusion Matrix : \\n\", cm)"
   ]
  },
  {
   "cell_type": "code",
   "execution_count": 14,
   "id": "3436f11f",
   "metadata": {},
   "outputs": [
    {
     "data": {
      "text/plain": [
       "(0.6871419478039466, 0.6871419478039466, 0.6871419478039466, None)"
      ]
     },
     "execution_count": 14,
     "metadata": {},
     "output_type": "execute_result"
    }
   ],
   "source": [
    "# Precision, Recall and Fscore\n",
    "from sklearn.metrics import precision_recall_fscore_support\n",
    "precision_recall_fscore_support(ytest, y_pred, average='micro')"
   ]
  },
  {
   "cell_type": "markdown",
   "id": "e27be52e",
   "metadata": {},
   "source": [
    "# Doing SMOTE undersampling and oversampling as this is an imbalanced dataset"
   ]
  },
  {
   "cell_type": "code",
   "execution_count": 15,
   "id": "c810421c",
   "metadata": {},
   "outputs": [],
   "source": [
    "import imblearn"
   ]
  },
  {
   "cell_type": "code",
   "execution_count": 16,
   "id": "fc860778",
   "metadata": {},
   "outputs": [],
   "source": [
    "from sklearn.datasets import make_classification\n",
    "from imblearn.over_sampling import SMOTE\n",
    "from imblearn.under_sampling import RandomUnderSampler\n",
    "from imblearn.pipeline import Pipeline"
   ]
  },
  {
   "cell_type": "code",
   "execution_count": 17,
   "id": "fb1b16ee",
   "metadata": {},
   "outputs": [],
   "source": [
    "# define pipeline\n",
    "over = SMOTE(sampling_strategy=0.1)\n",
    "under = RandomUnderSampler(sampling_strategy=0.5)\n",
    "steps = [('o', over), ('u', under)]\n",
    "pipeline = Pipeline(steps=steps)"
   ]
  },
  {
   "cell_type": "code",
   "execution_count": 18,
   "id": "da5084a1",
   "metadata": {},
   "outputs": [],
   "source": [
    "X1, y1 = pipeline.fit_resample(label_x_train, ytrain)\n",
    "X1_test, y1_test = pipeline.fit_resample(label_x_test, ytest)"
   ]
  },
  {
   "cell_type": "code",
   "execution_count": 19,
   "id": "b6fd78b4",
   "metadata": {},
   "outputs": [
    {
     "data": {
      "text/plain": [
       "LogisticRegression(random_state=0)"
      ]
     },
     "execution_count": 19,
     "metadata": {},
     "output_type": "execute_result"
    }
   ],
   "source": [
    "# Logistic Regression modelling\n",
    "classifier1 = LogisticRegression(random_state = 0)\n",
    "classifier1.fit(X1, y1)"
   ]
  },
  {
   "cell_type": "code",
   "execution_count": 20,
   "id": "a28d6ee5",
   "metadata": {},
   "outputs": [],
   "source": [
    "# Making predictions\n",
    "y_pred1 = classifier1.predict(X1_test)"
   ]
  },
  {
   "cell_type": "code",
   "execution_count": 21,
   "id": "9c2d1fd0",
   "metadata": {},
   "outputs": [
    {
     "name": "stdout",
     "output_type": "stream",
     "text": [
      "Accuracy :  0.7920043219881145\n"
     ]
    }
   ],
   "source": [
    "# Evaluating the model\n",
    "print (\"Accuracy : \", accuracy_score(y1_test, y_pred1))"
   ]
  },
  {
   "cell_type": "code",
   "execution_count": 22,
   "id": "a638d2b5",
   "metadata": {},
   "outputs": [
    {
     "name": "stdout",
     "output_type": "stream",
     "text": [
      "Confusion Matrix : \n",
      " [[1039  195]\n",
      " [ 190  427]]\n"
     ]
    }
   ],
   "source": [
    "#Confusion Matrix\n",
    "cm = confusion_matrix(y1_test, y_pred1)\n",
    "  \n",
    "print (\"Confusion Matrix : \\n\", cm)"
   ]
  },
  {
   "cell_type": "code",
   "execution_count": 23,
   "id": "04ae10cb",
   "metadata": {},
   "outputs": [
    {
     "data": {
      "text/plain": [
       "(0.7924335699341652, 0.7920043219881145, 0.7922128863106175, None)"
      ]
     },
     "execution_count": 23,
     "metadata": {},
     "output_type": "execute_result"
    }
   ],
   "source": [
    "# Precision, Recall and F-score\n",
    "precision_recall_fscore_support(y1_test, y_pred1, average='weighted')"
   ]
  }
 ],
 "metadata": {
  "kernelspec": {
   "display_name": "Python 3 (ipykernel)",
   "language": "python",
   "name": "python3"
  },
  "language_info": {
   "codemirror_mode": {
    "name": "ipython",
    "version": 3
   },
   "file_extension": ".py",
   "mimetype": "text/x-python",
   "name": "python",
   "nbconvert_exporter": "python",
   "pygments_lexer": "ipython3",
   "version": "3.7.6"
  }
 },
 "nbformat": 4,
 "nbformat_minor": 5
}
