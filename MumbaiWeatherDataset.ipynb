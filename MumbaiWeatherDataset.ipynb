{
 "cells": [
  {
   "cell_type": "markdown",
   "id": "96422533",
   "metadata": {},
   "source": [
    "# Mumbai Weather Dataset\n",
    "\n",
    "This dataset gives hourly weather information of mumbai of 3 days (day2 to day5).\n",
    "\n",
    "It consists of the following attributes:\n",
    "1. Day\n",
    "2. Hour\n",
    "3. Temperature\n",
    "4. Realtive Humidity\n",
    "5. Wind Speed\n",
    "6. Wind Direction\n",
    "\n",
    "### Objective\n",
    "To predict Temperature of any given day using Linear Regression model. Features which are Hour, Relative Humidity, Wind Speed and WInd Direction would be given.\n",
    "\n",
    "### Tools Required\n",
    "Python\n",
    "Jupyter Notebook\n",
    "\n",
    "### Libraries Used\n",
    "Pandas\n",
    "Sklearn\n",
    "Linear Regression\n",
    "Mean Absolute Error"
   ]
  },
  {
   "cell_type": "code",
   "execution_count": 1,
   "id": "2db71254",
   "metadata": {},
   "outputs": [],
   "source": [
    "#importing libraries\n",
    "import pandas as pd"
   ]
  },
  {
   "cell_type": "code",
   "execution_count": 2,
   "id": "c22402bd",
   "metadata": {},
   "outputs": [],
   "source": [
    "# Reading the dataset\n",
    "df = pd.read_csv('C:/Users/admin/Downloads/weather.csv')"
   ]
  },
  {
   "cell_type": "code",
   "execution_count": 3,
   "id": "045809df",
   "metadata": {},
   "outputs": [
    {
     "data": {
      "text/html": [
       "<div>\n",
       "<style scoped>\n",
       "    .dataframe tbody tr th:only-of-type {\n",
       "        vertical-align: middle;\n",
       "    }\n",
       "\n",
       "    .dataframe tbody tr th {\n",
       "        vertical-align: top;\n",
       "    }\n",
       "\n",
       "    .dataframe thead th {\n",
       "        text-align: right;\n",
       "    }\n",
       "</style>\n",
       "<table border=\"1\" class=\"dataframe\">\n",
       "  <thead>\n",
       "    <tr style=\"text-align: right;\">\n",
       "      <th></th>\n",
       "      <th>Day</th>\n",
       "      <th>Hour</th>\n",
       "      <th>Temperature</th>\n",
       "      <th>Relative Humidity</th>\n",
       "      <th>Wind Speed</th>\n",
       "      <th>Wind Direction</th>\n",
       "    </tr>\n",
       "  </thead>\n",
       "  <tbody>\n",
       "    <tr>\n",
       "      <th>0</th>\n",
       "      <td>2</td>\n",
       "      <td>0</td>\n",
       "      <td>28.94</td>\n",
       "      <td>77</td>\n",
       "      <td>9.69</td>\n",
       "      <td>221.99</td>\n",
       "    </tr>\n",
       "    <tr>\n",
       "      <th>1</th>\n",
       "      <td>2</td>\n",
       "      <td>1</td>\n",
       "      <td>28.79</td>\n",
       "      <td>79</td>\n",
       "      <td>13.04</td>\n",
       "      <td>219.40</td>\n",
       "    </tr>\n",
       "    <tr>\n",
       "      <th>2</th>\n",
       "      <td>2</td>\n",
       "      <td>2</td>\n",
       "      <td>28.59</td>\n",
       "      <td>79</td>\n",
       "      <td>7.99</td>\n",
       "      <td>215.84</td>\n",
       "    </tr>\n",
       "    <tr>\n",
       "      <th>3</th>\n",
       "      <td>2</td>\n",
       "      <td>3</td>\n",
       "      <td>28.47</td>\n",
       "      <td>79</td>\n",
       "      <td>5.48</td>\n",
       "      <td>203.20</td>\n",
       "    </tr>\n",
       "    <tr>\n",
       "      <th>4</th>\n",
       "      <td>2</td>\n",
       "      <td>4</td>\n",
       "      <td>28.40</td>\n",
       "      <td>78</td>\n",
       "      <td>5.24</td>\n",
       "      <td>195.95</td>\n",
       "    </tr>\n",
       "  </tbody>\n",
       "</table>\n",
       "</div>"
      ],
      "text/plain": [
       "   Day  Hour  Temperature   Relative Humidity   Wind Speed   Wind Direction \n",
       "0    2     0         28.94                  77         9.69           221.99\n",
       "1    2     1         28.79                  79        13.04           219.40\n",
       "2    2     2         28.59                  79         7.99           215.84\n",
       "3    2     3         28.47                  79         5.48           203.20\n",
       "4    2     4         28.40                  78         5.24           195.95"
      ]
     },
     "execution_count": 3,
     "metadata": {},
     "output_type": "execute_result"
    }
   ],
   "source": [
    "# A glance at the dataset\n",
    "df.head()"
   ]
  },
  {
   "cell_type": "code",
   "execution_count": 4,
   "id": "210d577c",
   "metadata": {},
   "outputs": [],
   "source": [
    "# Dropping null rows\n",
    "df = df.dropna(axis=0)"
   ]
  },
  {
   "cell_type": "code",
   "execution_count": 5,
   "id": "84059feb",
   "metadata": {},
   "outputs": [
    {
     "data": {
      "text/html": [
       "<div>\n",
       "<style scoped>\n",
       "    .dataframe tbody tr th:only-of-type {\n",
       "        vertical-align: middle;\n",
       "    }\n",
       "\n",
       "    .dataframe tbody tr th {\n",
       "        vertical-align: top;\n",
       "    }\n",
       "\n",
       "    .dataframe thead th {\n",
       "        text-align: right;\n",
       "    }\n",
       "</style>\n",
       "<table border=\"1\" class=\"dataframe\">\n",
       "  <thead>\n",
       "    <tr style=\"text-align: right;\">\n",
       "      <th></th>\n",
       "      <th>Day</th>\n",
       "      <th>Hour</th>\n",
       "      <th>Temperature</th>\n",
       "      <th>Relative Humidity</th>\n",
       "      <th>Wind Speed</th>\n",
       "      <th>Wind Direction</th>\n",
       "    </tr>\n",
       "  </thead>\n",
       "  <tbody>\n",
       "    <tr>\n",
       "      <th>count</th>\n",
       "      <td>192.000000</td>\n",
       "      <td>192.000000</td>\n",
       "      <td>192.000000</td>\n",
       "      <td>192.000000</td>\n",
       "      <td>192.000000</td>\n",
       "      <td>192.000000</td>\n",
       "    </tr>\n",
       "    <tr>\n",
       "      <th>mean</th>\n",
       "      <td>5.500000</td>\n",
       "      <td>11.500000</td>\n",
       "      <td>29.956198</td>\n",
       "      <td>73.776042</td>\n",
       "      <td>15.904271</td>\n",
       "      <td>259.469583</td>\n",
       "    </tr>\n",
       "    <tr>\n",
       "      <th>std</th>\n",
       "      <td>2.297278</td>\n",
       "      <td>6.940284</td>\n",
       "      <td>1.387360</td>\n",
       "      <td>5.970858</td>\n",
       "      <td>5.341109</td>\n",
       "      <td>22.535335</td>\n",
       "    </tr>\n",
       "    <tr>\n",
       "      <th>min</th>\n",
       "      <td>2.000000</td>\n",
       "      <td>0.000000</td>\n",
       "      <td>26.650000</td>\n",
       "      <td>60.000000</td>\n",
       "      <td>2.620000</td>\n",
       "      <td>195.950000</td>\n",
       "    </tr>\n",
       "    <tr>\n",
       "      <th>25%</th>\n",
       "      <td>3.750000</td>\n",
       "      <td>5.750000</td>\n",
       "      <td>28.880000</td>\n",
       "      <td>69.000000</td>\n",
       "      <td>11.697500</td>\n",
       "      <td>246.467500</td>\n",
       "    </tr>\n",
       "    <tr>\n",
       "      <th>50%</th>\n",
       "      <td>5.500000</td>\n",
       "      <td>11.500000</td>\n",
       "      <td>29.485000</td>\n",
       "      <td>75.000000</td>\n",
       "      <td>15.990000</td>\n",
       "      <td>262.105000</td>\n",
       "    </tr>\n",
       "    <tr>\n",
       "      <th>75%</th>\n",
       "      <td>7.250000</td>\n",
       "      <td>17.250000</td>\n",
       "      <td>30.862500</td>\n",
       "      <td>78.000000</td>\n",
       "      <td>20.570000</td>\n",
       "      <td>274.732500</td>\n",
       "    </tr>\n",
       "    <tr>\n",
       "      <th>max</th>\n",
       "      <td>9.000000</td>\n",
       "      <td>23.000000</td>\n",
       "      <td>33.060000</td>\n",
       "      <td>89.000000</td>\n",
       "      <td>26.880000</td>\n",
       "      <td>307.570000</td>\n",
       "    </tr>\n",
       "  </tbody>\n",
       "</table>\n",
       "</div>"
      ],
      "text/plain": [
       "              Day        Hour  Temperature   Relative Humidity   Wind Speed   \\\n",
       "count  192.000000  192.000000    192.000000          192.000000   192.000000   \n",
       "mean     5.500000   11.500000     29.956198           73.776042    15.904271   \n",
       "std      2.297278    6.940284      1.387360            5.970858     5.341109   \n",
       "min      2.000000    0.000000     26.650000           60.000000     2.620000   \n",
       "25%      3.750000    5.750000     28.880000           69.000000    11.697500   \n",
       "50%      5.500000   11.500000     29.485000           75.000000    15.990000   \n",
       "75%      7.250000   17.250000     30.862500           78.000000    20.570000   \n",
       "max      9.000000   23.000000     33.060000           89.000000    26.880000   \n",
       "\n",
       "       Wind Direction   \n",
       "count       192.000000  \n",
       "mean        259.469583  \n",
       "std          22.535335  \n",
       "min         195.950000  \n",
       "25%         246.467500  \n",
       "50%         262.105000  \n",
       "75%         274.732500  \n",
       "max         307.570000  "
      ]
     },
     "execution_count": 5,
     "metadata": {},
     "output_type": "execute_result"
    }
   ],
   "source": [
    "df.describe()"
   ]
  },
  {
   "cell_type": "code",
   "execution_count": 6,
   "id": "e9bea809",
   "metadata": {},
   "outputs": [],
   "source": [
    "# Declaring the outcome attribute as 'y'\n",
    "y= df['Temperature ']"
   ]
  },
  {
   "cell_type": "code",
   "execution_count": 7,
   "id": "15d89cc7",
   "metadata": {},
   "outputs": [],
   "source": [
    "# Selecting relevant columns as Features to train\n",
    "df_features = ['Hour', 'Relative Humidity ', 'Wind Speed ','Wind Direction ']"
   ]
  },
  {
   "cell_type": "code",
   "execution_count": 8,
   "id": "3f8f0814",
   "metadata": {},
   "outputs": [],
   "source": [
    "# Assigning features to a variable \"X\"\n",
    "X = df[df_features]"
   ]
  },
  {
   "cell_type": "code",
   "execution_count": 9,
   "id": "5f034bbb",
   "metadata": {},
   "outputs": [],
   "source": [
    "# Importing Linear Regression Model\n",
    "from sklearn.linear_model import LinearRegression"
   ]
  },
  {
   "cell_type": "code",
   "execution_count": 10,
   "id": "dbec2ba6",
   "metadata": {},
   "outputs": [],
   "source": [
    "# Saving the model in a variable named 'regressor'\n",
    "regressor = LinearRegression()"
   ]
  },
  {
   "cell_type": "code",
   "execution_count": 11,
   "id": "d534d762",
   "metadata": {},
   "outputs": [
    {
     "data": {
      "text/plain": [
       "LinearRegression()"
      ]
     },
     "execution_count": 11,
     "metadata": {},
     "output_type": "execute_result"
    }
   ],
   "source": [
    "# Fitting the Dependent variables and Independent variables into the model\n",
    "regressor.fit(X,y)"
   ]
  },
  {
   "cell_type": "code",
   "execution_count": 12,
   "id": "ddf494e6",
   "metadata": {},
   "outputs": [
    {
     "name": "stdout",
     "output_type": "stream",
     "text": [
      "Making predictions for the following 5 houses:\n",
      "   Hour  Relative Humidity   Wind Speed   Wind Direction \n",
      "0     0                  77         9.69           221.99\n",
      "1     1                  79        13.04           219.40\n",
      "2     2                  79         7.99           215.84\n",
      "3     3                  79         5.48           203.20\n",
      "4     4                  78         5.24           195.95\n",
      "The predictions are\n",
      "[29.08489156 28.65408432 28.66541903 28.64383045 28.84341907]\n"
     ]
    }
   ],
   "source": [
    "print(\"Making predictions for the following 5 houses:\")\n",
    "print(X.head())\n",
    "print(\"The predictions are\")\n",
    "print(regressor.predict(X.head()))"
   ]
  },
  {
   "cell_type": "code",
   "execution_count": 13,
   "id": "9e36a925",
   "metadata": {},
   "outputs": [],
   "source": [
    "# Importing mean absolute error to evaluate the model's performance\n",
    "from sklearn.metrics import mean_absolute_error"
   ]
  },
  {
   "cell_type": "code",
   "execution_count": 14,
   "id": "9297b357",
   "metadata": {},
   "outputs": [
    {
     "data": {
      "text/plain": [
       "0.38158244747382275"
      ]
     },
     "execution_count": 14,
     "metadata": {},
     "output_type": "execute_result"
    }
   ],
   "source": [
    "# Making predictions\n",
    "preds = regressor.predict(X)\n",
    "mean_absolute_error(y, preds)"
   ]
  },
  {
   "cell_type": "code",
   "execution_count": 15,
   "id": "543502ee",
   "metadata": {},
   "outputs": [],
   "source": [
    "# Importing train_test_split to validate the model\n",
    "from sklearn.model_selection import train_test_split"
   ]
  },
  {
   "cell_type": "code",
   "execution_count": 16,
   "id": "34c50086",
   "metadata": {},
   "outputs": [],
   "source": [
    "train_X, val_X, train_y, val_y = train_test_split(X, y, random_state = 0)"
   ]
  },
  {
   "cell_type": "code",
   "execution_count": 17,
   "id": "fee7e83a",
   "metadata": {},
   "outputs": [
    {
     "data": {
      "text/plain": [
       "LinearRegression()"
      ]
     },
     "execution_count": 17,
     "metadata": {},
     "output_type": "execute_result"
    }
   ],
   "source": [
    "regressor.fit(train_X, train_y)"
   ]
  },
  {
   "cell_type": "code",
   "execution_count": 18,
   "id": "c9089450",
   "metadata": {},
   "outputs": [
    {
     "name": "stdout",
     "output_type": "stream",
     "text": [
      "0.4144899798946217\n"
     ]
    }
   ],
   "source": [
    "val_predictions = regressor.predict(val_X)\n",
    "print(mean_absolute_error(val_y, val_predictions))"
   ]
  },
  {
   "cell_type": "code",
   "execution_count": 24,
   "id": "8d7c7f69",
   "metadata": {},
   "outputs": [
    {
     "name": "stdout",
     "output_type": "stream",
     "text": [
      "r2 score is 0.8488570245137701\n"
     ]
    }
   ],
   "source": [
    "from sklearn.metrics import r2_score\n",
    "r2 = r2_score(val_y, val_predictions)\n",
    "print('r2 score is', r2)"
   ]
  },
  {
   "cell_type": "code",
   "execution_count": 23,
   "id": "3413aff5",
   "metadata": {},
   "outputs": [
    {
     "name": "stdout",
     "output_type": "stream",
     "text": [
      "MSE is 0.2565943798789761\n"
     ]
    }
   ],
   "source": [
    "from sklearn.metrics import mean_squared_error\n",
    "errors = mean_squared_error(val_y, val_predictions)\n",
    "print('MSE is', errors)"
   ]
  },
  {
   "cell_type": "code",
   "execution_count": 25,
   "id": "aec2f986",
   "metadata": {},
   "outputs": [
    {
     "name": "stdout",
     "output_type": "stream",
     "text": [
      "RMSE is 0.5065514582734671\n"
     ]
    }
   ],
   "source": [
    "errors = mean_squared_error(val_y, val_predictions, squared=False)\n",
    "print('RMSE is', errors)"
   ]
  }
 ],
 "metadata": {
  "kernelspec": {
   "display_name": "Python 3 (ipykernel)",
   "language": "python",
   "name": "python3"
  },
  "language_info": {
   "codemirror_mode": {
    "name": "ipython",
    "version": 3
   },
   "file_extension": ".py",
   "mimetype": "text/x-python",
   "name": "python",
   "nbconvert_exporter": "python",
   "pygments_lexer": "ipython3",
   "version": "3.7.6"
  }
 },
 "nbformat": 4,
 "nbformat_minor": 5
}
