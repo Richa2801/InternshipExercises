{
 "cells": [
  {
   "cell_type": "markdown",
   "id": "0c5916b3",
   "metadata": {},
   "source": [
    "# Country Dataset \n",
    "\n",
    "This dataset contains information about the health, income and gdp of each country's population. Attributes associated are as follows:\n",
    "\n",
    " 0.   country      \n",
    " 1.   child_mort  \n",
    " 2.   exports     \n",
    " 3.   health      \n",
    " 4.   imports     \n",
    " 5.   income        \n",
    " 6.   inflation   \n",
    " 7.   life_expec  \n",
    " 8.   total_fer   \n",
    " 9.   gdpp      \n",
    " \n",
    " ### Objective\n",
    " Use unsupervised learning K-means Clustering to find out the most poor countries.\n",
    " \n",
    " ### Tools Required\n",
    " Python, Jupyter-Notebook\n",
    " \n",
    " ### Libraries Used\n",
    " Pandas, Matplotlib, KMeans"
   ]
  },
  {
   "cell_type": "code",
   "execution_count": 1,
   "id": "085d86f4",
   "metadata": {},
   "outputs": [],
   "source": [
    "%matplotlib inline\n",
    "import pandas as pd\n",
    "import matplotlib.pyplot as mtp"
   ]
  },
  {
   "cell_type": "code",
   "execution_count": 2,
   "id": "5938aff8",
   "metadata": {},
   "outputs": [],
   "source": [
    "df = pd.read_csv(\"C:/Users/admin/Downloads/Country-data.csv\")"
   ]
  },
  {
   "cell_type": "code",
   "execution_count": 3,
   "id": "0d552af3",
   "metadata": {},
   "outputs": [
    {
     "name": "stdout",
     "output_type": "stream",
     "text": [
      "<class 'pandas.core.frame.DataFrame'>\n",
      "RangeIndex: 167 entries, 0 to 166\n",
      "Data columns (total 10 columns):\n",
      " #   Column      Non-Null Count  Dtype  \n",
      "---  ------      --------------  -----  \n",
      " 0   country     167 non-null    object \n",
      " 1   child_mort  167 non-null    float64\n",
      " 2   exports     167 non-null    float64\n",
      " 3   health      167 non-null    float64\n",
      " 4   imports     167 non-null    float64\n",
      " 5   income      167 non-null    int64  \n",
      " 6   inflation   167 non-null    float64\n",
      " 7   life_expec  167 non-null    float64\n",
      " 8   total_fer   167 non-null    float64\n",
      " 9   gdpp        167 non-null    int64  \n",
      "dtypes: float64(7), int64(2), object(1)\n",
      "memory usage: 13.2+ KB\n"
     ]
    }
   ],
   "source": [
    "df.info()"
   ]
  },
  {
   "cell_type": "code",
   "execution_count": 4,
   "id": "8d7023f4",
   "metadata": {},
   "outputs": [
    {
     "data": {
      "text/html": [
       "<div>\n",
       "<style scoped>\n",
       "    .dataframe tbody tr th:only-of-type {\n",
       "        vertical-align: middle;\n",
       "    }\n",
       "\n",
       "    .dataframe tbody tr th {\n",
       "        vertical-align: top;\n",
       "    }\n",
       "\n",
       "    .dataframe thead th {\n",
       "        text-align: right;\n",
       "    }\n",
       "</style>\n",
       "<table border=\"1\" class=\"dataframe\">\n",
       "  <thead>\n",
       "    <tr style=\"text-align: right;\">\n",
       "      <th></th>\n",
       "      <th>child_mort</th>\n",
       "      <th>exports</th>\n",
       "      <th>health</th>\n",
       "      <th>imports</th>\n",
       "      <th>income</th>\n",
       "      <th>inflation</th>\n",
       "      <th>life_expec</th>\n",
       "      <th>total_fer</th>\n",
       "      <th>gdpp</th>\n",
       "    </tr>\n",
       "  </thead>\n",
       "  <tbody>\n",
       "    <tr>\n",
       "      <th>count</th>\n",
       "      <td>167.000000</td>\n",
       "      <td>167.000000</td>\n",
       "      <td>167.000000</td>\n",
       "      <td>167.000000</td>\n",
       "      <td>167.000000</td>\n",
       "      <td>167.000000</td>\n",
       "      <td>167.000000</td>\n",
       "      <td>167.000000</td>\n",
       "      <td>167.000000</td>\n",
       "    </tr>\n",
       "    <tr>\n",
       "      <th>mean</th>\n",
       "      <td>38.270060</td>\n",
       "      <td>41.108976</td>\n",
       "      <td>6.815689</td>\n",
       "      <td>46.890215</td>\n",
       "      <td>17144.688623</td>\n",
       "      <td>7.781832</td>\n",
       "      <td>70.555689</td>\n",
       "      <td>2.947964</td>\n",
       "      <td>12964.155689</td>\n",
       "    </tr>\n",
       "    <tr>\n",
       "      <th>std</th>\n",
       "      <td>40.328931</td>\n",
       "      <td>27.412010</td>\n",
       "      <td>2.746837</td>\n",
       "      <td>24.209589</td>\n",
       "      <td>19278.067698</td>\n",
       "      <td>10.570704</td>\n",
       "      <td>8.893172</td>\n",
       "      <td>1.513848</td>\n",
       "      <td>18328.704809</td>\n",
       "    </tr>\n",
       "    <tr>\n",
       "      <th>min</th>\n",
       "      <td>2.600000</td>\n",
       "      <td>0.109000</td>\n",
       "      <td>1.810000</td>\n",
       "      <td>0.065900</td>\n",
       "      <td>609.000000</td>\n",
       "      <td>-4.210000</td>\n",
       "      <td>32.100000</td>\n",
       "      <td>1.150000</td>\n",
       "      <td>231.000000</td>\n",
       "    </tr>\n",
       "    <tr>\n",
       "      <th>25%</th>\n",
       "      <td>8.250000</td>\n",
       "      <td>23.800000</td>\n",
       "      <td>4.920000</td>\n",
       "      <td>30.200000</td>\n",
       "      <td>3355.000000</td>\n",
       "      <td>1.810000</td>\n",
       "      <td>65.300000</td>\n",
       "      <td>1.795000</td>\n",
       "      <td>1330.000000</td>\n",
       "    </tr>\n",
       "    <tr>\n",
       "      <th>50%</th>\n",
       "      <td>19.300000</td>\n",
       "      <td>35.000000</td>\n",
       "      <td>6.320000</td>\n",
       "      <td>43.300000</td>\n",
       "      <td>9960.000000</td>\n",
       "      <td>5.390000</td>\n",
       "      <td>73.100000</td>\n",
       "      <td>2.410000</td>\n",
       "      <td>4660.000000</td>\n",
       "    </tr>\n",
       "    <tr>\n",
       "      <th>75%</th>\n",
       "      <td>62.100000</td>\n",
       "      <td>51.350000</td>\n",
       "      <td>8.600000</td>\n",
       "      <td>58.750000</td>\n",
       "      <td>22800.000000</td>\n",
       "      <td>10.750000</td>\n",
       "      <td>76.800000</td>\n",
       "      <td>3.880000</td>\n",
       "      <td>14050.000000</td>\n",
       "    </tr>\n",
       "    <tr>\n",
       "      <th>max</th>\n",
       "      <td>208.000000</td>\n",
       "      <td>200.000000</td>\n",
       "      <td>17.900000</td>\n",
       "      <td>174.000000</td>\n",
       "      <td>125000.000000</td>\n",
       "      <td>104.000000</td>\n",
       "      <td>82.800000</td>\n",
       "      <td>7.490000</td>\n",
       "      <td>105000.000000</td>\n",
       "    </tr>\n",
       "  </tbody>\n",
       "</table>\n",
       "</div>"
      ],
      "text/plain": [
       "       child_mort     exports      health     imports         income  \\\n",
       "count  167.000000  167.000000  167.000000  167.000000     167.000000   \n",
       "mean    38.270060   41.108976    6.815689   46.890215   17144.688623   \n",
       "std     40.328931   27.412010    2.746837   24.209589   19278.067698   \n",
       "min      2.600000    0.109000    1.810000    0.065900     609.000000   \n",
       "25%      8.250000   23.800000    4.920000   30.200000    3355.000000   \n",
       "50%     19.300000   35.000000    6.320000   43.300000    9960.000000   \n",
       "75%     62.100000   51.350000    8.600000   58.750000   22800.000000   \n",
       "max    208.000000  200.000000   17.900000  174.000000  125000.000000   \n",
       "\n",
       "        inflation  life_expec   total_fer           gdpp  \n",
       "count  167.000000  167.000000  167.000000     167.000000  \n",
       "mean     7.781832   70.555689    2.947964   12964.155689  \n",
       "std     10.570704    8.893172    1.513848   18328.704809  \n",
       "min     -4.210000   32.100000    1.150000     231.000000  \n",
       "25%      1.810000   65.300000    1.795000    1330.000000  \n",
       "50%      5.390000   73.100000    2.410000    4660.000000  \n",
       "75%     10.750000   76.800000    3.880000   14050.000000  \n",
       "max    104.000000   82.800000    7.490000  105000.000000  "
      ]
     },
     "execution_count": 4,
     "metadata": {},
     "output_type": "execute_result"
    }
   ],
   "source": [
    "df.describe()"
   ]
  },
  {
   "cell_type": "code",
   "execution_count": 5,
   "id": "42c93e6a",
   "metadata": {},
   "outputs": [
    {
     "data": {
      "text/plain": [
       "{'whiskers': [<matplotlib.lines.Line2D at 0x222ae6d62c8>,\n",
       "  <matplotlib.lines.Line2D at 0x222ae6d6908>],\n",
       " 'caps': [<matplotlib.lines.Line2D at 0x222ae6d6b48>,\n",
       "  <matplotlib.lines.Line2D at 0x222ae6d6088>],\n",
       " 'boxes': [<matplotlib.lines.Line2D at 0x222ab5e2c48>],\n",
       " 'medians': [<matplotlib.lines.Line2D at 0x222ae6e5148>],\n",
       " 'fliers': [<matplotlib.lines.Line2D at 0x222ae6ded48>],\n",
       " 'means': []}"
      ]
     },
     "execution_count": 5,
     "metadata": {},
     "output_type": "execute_result"
    },
    {
     "data": {
      "image/png": "[encoded data removed]",
      "text/plain": [
       "<Figure size 432x288 with 1 Axes>"
      ]
     },
     "metadata": {
      "needs_background": "light"
     },
     "output_type": "display_data"
    }
   ],
   "source": [
    "# Checking for outliers\n",
    "mtp.boxplot(df.income , vert=False)"
   ]
  },
  {
   "cell_type": "code",
   "execution_count": 6,
   "id": "5e37cf0d",
   "metadata": {},
   "outputs": [],
   "source": [
    "# Removing Outliers\n",
    "df['gdpp_std'] = ((df.gdpp - df.gdpp.mean()).apply(abs) / df.gdpp.std())\n",
    "df['income_std'] = ((df.income - df.income.mean()).apply(abs) / df.income.std())\n",
    "cleaned_df = df.loc[(df['gdpp_std'] < 1.5) & (df['income_std'] < 1.5)]"
   ]
  },
  {
   "cell_type": "code",
   "execution_count": 7,
   "id": "555d47f8",
   "metadata": {},
   "outputs": [
    {
     "data": {
      "text/plain": [
       "{'whiskers': [<matplotlib.lines.Line2D at 0x222ae7efac8>,\n",
       "  <matplotlib.lines.Line2D at 0x222ae7f31c8>],\n",
       " 'caps': [<matplotlib.lines.Line2D at 0x222ae7f32c8>,\n",
       "  <matplotlib.lines.Line2D at 0x222ae7f3ec8>],\n",
       " 'boxes': [<matplotlib.lines.Line2D at 0x222ae7ef208>],\n",
       " 'medians': [<matplotlib.lines.Line2D at 0x222ae7fa508>],\n",
       " 'fliers': [<matplotlib.lines.Line2D at 0x222ae7f3f88>],\n",
       " 'means': []}"
      ]
     },
     "execution_count": 7,
     "metadata": {},
     "output_type": "execute_result"
    },
    {
     "data": {
      "image/png": "[encoded data removed]",
      "text/plain": [
       "<Figure size 432x288 with 1 Axes>"
      ]
     },
     "metadata": {
      "needs_background": "light"
     },
     "output_type": "display_data"
    }
   ],
   "source": [
    "mtp.boxplot(cleaned_df['income_std'] , vert=False)"
   ]
  },
  {
   "cell_type": "code",
   "execution_count": 8,
   "id": "235590ed",
   "metadata": {},
   "outputs": [
    {
     "data": {
      "text/plain": [
       "(145, 9)"
      ]
     },
     "execution_count": 8,
     "metadata": {},
     "output_type": "execute_result"
    }
   ],
   "source": [
    "# Dropping the extra columns\n",
    "cleaned_df1 = cleaned_df.drop(['income_std','gdpp_std','country'], axis=1)\n",
    "cleaned_df1.shape"
   ]
  },
  {
   "cell_type": "code",
   "execution_count": 9,
   "id": "d2636e2c",
   "metadata": {},
   "outputs": [
    {
     "data": {
      "image/png": "[encoded data removed]",
      "text/plain": [
       "<Figure size 432x288 with 1 Axes>"
      ]
     },
     "metadata": {
      "needs_background": "light"
     },
     "output_type": "display_data"
    }
   ],
   "source": [
    "#finding optimal number of clusters using the elbow method  \n",
    "from sklearn.cluster import KMeans  \n",
    "wcss_list= []  #Initializing the list for the values of WCSS  \n",
    "  \n",
    "#Using for loop for iterations from 1 to 10.  \n",
    "for i in range(1, 11):  \n",
    "    kmeans = KMeans(n_clusters=i, init='k-means++', random_state= 42)  \n",
    "    kmeans.fit(cleaned_df1)  \n",
    "    wcss_list.append(kmeans.inertia_)  \n",
    "mtp.plot(range(1, 11), wcss_list)  \n",
    "mtp.title('The Elbow Method Graph')  \n",
    "mtp.xlabel('Number of clusters(k)')  \n",
    "mtp.ylabel('wcss_list')  \n",
    "mtp.show()"
   ]
  },
  {
   "cell_type": "code",
   "execution_count": 10,
   "id": "9db779f1",
   "metadata": {},
   "outputs": [],
   "source": [
    "#training the K-means model on a dataset  \n",
    "kmeans = KMeans(n_clusters=2, init='k-means++', random_state= 42)  \n",
    "y_predict= kmeans.fit_predict(cleaned_df1)\n",
    "cleaned_df2 = pd.DataFrame({'Cluster':y_predict, 'Country':cleaned_df.country, 'gdpp':cleaned_df1.gdpp, 'income':cleaned_df1.income, 'health':cleaned_df1.health})"
   ]
  },
  {
   "cell_type": "code",
   "execution_count": 11,
   "id": "3041ebc9",
   "metadata": {},
   "outputs": [
    {
     "data": {
      "image/png": "[encoded data removed]",
      "text/plain": [
       "<Figure size 432x288 with 1 Axes>"
      ]
     },
     "metadata": {
      "needs_background": "light"
     },
     "output_type": "display_data"
    }
   ],
   "source": [
    "#visualizing the clusters  \n",
    "mtp.scatter(cleaned_df2.gdpp[cleaned_df2.Cluster == 0], cleaned_df2.health[cleaned_df2.Cluster == 0], c = 'blue', label = 'Cluster 1') #for first cluster  \n",
    "mtp.scatter(cleaned_df2.gdpp[cleaned_df2.Cluster == 1], cleaned_df2.health[cleaned_df2.Cluster == 1], c = 'green', label = 'Cluster 2') #for second cluster  \n",
    "\n",
    "mtp.scatter(kmeans.cluster_centers_[:, 8], kmeans.cluster_centers_[:, 2], c = 'red', label = 'Centroid')   \n",
    "mtp.title('Clusters of countries')  \n",
    "mtp.xlabel('GDPP')  \n",
    "mtp.ylabel('Health')  \n",
    "mtp.legend()  \n",
    "mtp.show()  "
   ]
  },
  {
   "cell_type": "code",
   "execution_count": 12,
   "id": "2aa92032",
   "metadata": {},
   "outputs": [
    {
     "data": {
      "text/plain": [
       "(109, 5)"
      ]
     },
     "execution_count": 12,
     "metadata": {},
     "output_type": "execute_result"
    }
   ],
   "source": [
    "cleaned_df2[cleaned_df2.Cluster==0].shape"
   ]
  },
  {
   "cell_type": "markdown",
   "id": "4b2912f9",
   "metadata": {},
   "source": [
    "## 2nd Cycle"
   ]
  },
  {
   "cell_type": "code",
   "execution_count": 13,
   "id": "553c4593",
   "metadata": {},
   "outputs": [],
   "source": [
    "cleaned_df3 = cleaned_df2[cleaned_df2.Cluster==0]\n",
    "cleaned_df4 = cleaned_df3.drop('Country', axis=1)"
   ]
  },
  {
   "cell_type": "code",
   "execution_count": 14,
   "id": "725ed126",
   "metadata": {},
   "outputs": [],
   "source": [
    "#training the K-means model on a dataset  \n",
    "kmeans = KMeans(n_clusters=2, init='k-means++', random_state= 42)  \n",
    "y_predict= kmeans.fit_predict(cleaned_df4)\n",
    "cleaned_df5 = pd.DataFrame({'Cluster':y_predict, 'Country':cleaned_df3.Country, 'gdpp':cleaned_df4.gdpp, 'income':cleaned_df4.income, 'health':cleaned_df4.health})"
   ]
  },
  {
   "cell_type": "code",
   "execution_count": 15,
   "id": "790b0d79",
   "metadata": {},
   "outputs": [
    {
     "data": {
      "image/png": "[encoded data removed]",
      "text/plain": [
       "<Figure size 432x288 with 1 Axes>"
      ]
     },
     "metadata": {
      "needs_background": "light"
     },
     "output_type": "display_data"
    }
   ],
   "source": [
    "#visualizing the clusters  \n",
    "mtp.scatter(cleaned_df5.gdpp[cleaned_df5.Cluster == 0], cleaned_df5.health[cleaned_df5.Cluster == 0], c = 'blue', label = 'Cluster 1') #for first cluster  \n",
    "mtp.scatter(cleaned_df5.gdpp[cleaned_df5.Cluster == 1], cleaned_df5.health[cleaned_df5.Cluster == 1], c = 'green', label = 'Cluster 2') #for second cluster  \n",
    "\n",
    "mtp.scatter(kmeans.cluster_centers_[:, 1], kmeans.cluster_centers_[:, 3], c = 'red', label = 'Centroid')   \n",
    "mtp.title('Clusters of countries')  \n",
    "mtp.xlabel('GDPP')  \n",
    "mtp.ylabel('Health')  \n",
    "mtp.legend()  \n",
    "mtp.show()  "
   ]
  },
  {
   "cell_type": "code",
   "execution_count": 16,
   "id": "17cb710f",
   "metadata": {},
   "outputs": [
    {
     "data": {
      "text/plain": [
       "(70, 5)"
      ]
     },
     "execution_count": 16,
     "metadata": {},
     "output_type": "execute_result"
    }
   ],
   "source": [
    "cleaned_df5[cleaned_df5.Cluster==0].shape"
   ]
  },
  {
   "cell_type": "markdown",
   "id": "ec122074",
   "metadata": {},
   "source": [
    "## 3rd Cycle"
   ]
  },
  {
   "cell_type": "code",
   "execution_count": 17,
   "id": "1eeefd7c",
   "metadata": {},
   "outputs": [],
   "source": [
    "cleaned_df6 = cleaned_df5[cleaned_df5.Cluster==0]\n",
    "cleaned_df7 = cleaned_df6.drop('Country', axis=1)"
   ]
  },
  {
   "cell_type": "code",
   "execution_count": 18,
   "id": "9b116112",
   "metadata": {},
   "outputs": [],
   "source": [
    "#training the K-means model on a dataset  \n",
    "kmeans = KMeans(n_clusters=2, init='k-means++', random_state= 42)  \n",
    "y_predict= kmeans.fit_predict(cleaned_df7)\n",
    "cleaned_df8 = pd.DataFrame({'Cluster':y_predict, 'Country':cleaned_df6.Country, 'gdpp':cleaned_df7.gdpp, 'income':cleaned_df7.income, 'health':cleaned_df7.health})"
   ]
  },
  {
   "cell_type": "code",
   "execution_count": 19,
   "id": "021edc82",
   "metadata": {},
   "outputs": [
    {
     "data": {
      "image/png": "[encoded data removed]",
      "text/plain": [
       "<Figure size 432x288 with 1 Axes>"
      ]
     },
     "metadata": {
      "needs_background": "light"
     },
     "output_type": "display_data"
    }
   ],
   "source": [
    "#visualizing the clusters  \n",
    "mtp.scatter(cleaned_df8.gdpp[cleaned_df8.Cluster == 0], cleaned_df8.health[cleaned_df8.Cluster == 0], c = 'blue', label = 'Cluster 1') #for first cluster  \n",
    "mtp.scatter(cleaned_df8.gdpp[cleaned_df8.Cluster == 1], cleaned_df8.health[cleaned_df8.Cluster == 1], c = 'green', label = 'Cluster 2') #for second cluster  \n",
    "\n",
    "mtp.scatter(kmeans.cluster_centers_[:, 1], kmeans.cluster_centers_[:, 3], c = 'red', label = 'Centroid')   \n",
    "mtp.title('Clusters of countries')  \n",
    "mtp.xlabel('GDPP')  \n",
    "mtp.ylabel('Health')  \n",
    "mtp.legend()  \n",
    "mtp.show()"
   ]
  },
  {
   "cell_type": "code",
   "execution_count": 20,
   "id": "94c8f6f8",
   "metadata": {},
   "outputs": [
    {
     "data": {
      "text/plain": [
       "(48, 5)"
      ]
     },
     "execution_count": 20,
     "metadata": {},
     "output_type": "execute_result"
    }
   ],
   "source": [
    "cleaned_df8[cleaned_df8.Cluster==0].shape"
   ]
  },
  {
   "cell_type": "code",
   "execution_count": 21,
   "id": "8aea0b0c",
   "metadata": {},
   "outputs": [
    {
     "data": {
      "text/plain": [
       "array([[0.00000000e+00, 9.61333333e+02, 2.10006250e+03, 6.63291667e+00],\n",
       "       [0.00000000e+00, 2.70636364e+03, 6.05227273e+03, 5.38454545e+00]])"
      ]
     },
     "execution_count": 21,
     "metadata": {},
     "output_type": "execute_result"
    }
   ],
   "source": [
    "kmeans.cluster_centers_"
   ]
  },
  {
   "cell_type": "code",
   "execution_count": 22,
   "id": "98c4fa1d",
   "metadata": {},
   "outputs": [
    {
     "data": {
      "text/html": [
       "<div>\n",
       "<style scoped>\n",
       "    .dataframe tbody tr th:only-of-type {\n",
       "        vertical-align: middle;\n",
       "    }\n",
       "\n",
       "    .dataframe tbody tr th {\n",
       "        vertical-align: top;\n",
       "    }\n",
       "\n",
       "    .dataframe thead th {\n",
       "        text-align: right;\n",
       "    }\n",
       "</style>\n",
       "<table border=\"1\" class=\"dataframe\">\n",
       "  <thead>\n",
       "    <tr style=\"text-align: right;\">\n",
       "      <th></th>\n",
       "      <th>Cluster</th>\n",
       "      <th>Country</th>\n",
       "      <th>gdpp</th>\n",
       "      <th>income</th>\n",
       "      <th>health</th>\n",
       "    </tr>\n",
       "  </thead>\n",
       "  <tbody>\n",
       "    <tr>\n",
       "      <th>0</th>\n",
       "      <td>0</td>\n",
       "      <td>Afghanistan</td>\n",
       "      <td>553</td>\n",
       "      <td>1610</td>\n",
       "      <td>7.58</td>\n",
       "    </tr>\n",
       "    <tr>\n",
       "      <th>12</th>\n",
       "      <td>0</td>\n",
       "      <td>Bangladesh</td>\n",
       "      <td>758</td>\n",
       "      <td>2440</td>\n",
       "      <td>3.52</td>\n",
       "    </tr>\n",
       "    <tr>\n",
       "      <th>17</th>\n",
       "      <td>0</td>\n",
       "      <td>Benin</td>\n",
       "      <td>758</td>\n",
       "      <td>1820</td>\n",
       "      <td>4.10</td>\n",
       "    </tr>\n",
       "    <tr>\n",
       "      <th>25</th>\n",
       "      <td>0</td>\n",
       "      <td>Burkina Faso</td>\n",
       "      <td>575</td>\n",
       "      <td>1430</td>\n",
       "      <td>6.74</td>\n",
       "    </tr>\n",
       "    <tr>\n",
       "      <th>26</th>\n",
       "      <td>0</td>\n",
       "      <td>Burundi</td>\n",
       "      <td>231</td>\n",
       "      <td>764</td>\n",
       "      <td>11.60</td>\n",
       "    </tr>\n",
       "    <tr>\n",
       "      <th>27</th>\n",
       "      <td>0</td>\n",
       "      <td>Cambodia</td>\n",
       "      <td>786</td>\n",
       "      <td>2520</td>\n",
       "      <td>5.68</td>\n",
       "    </tr>\n",
       "    <tr>\n",
       "      <th>28</th>\n",
       "      <td>0</td>\n",
       "      <td>Cameroon</td>\n",
       "      <td>1310</td>\n",
       "      <td>2660</td>\n",
       "      <td>5.13</td>\n",
       "    </tr>\n",
       "    <tr>\n",
       "      <th>31</th>\n",
       "      <td>0</td>\n",
       "      <td>Central African Republic</td>\n",
       "      <td>446</td>\n",
       "      <td>888</td>\n",
       "      <td>3.98</td>\n",
       "    </tr>\n",
       "    <tr>\n",
       "      <th>32</th>\n",
       "      <td>0</td>\n",
       "      <td>Chad</td>\n",
       "      <td>897</td>\n",
       "      <td>1930</td>\n",
       "      <td>4.53</td>\n",
       "    </tr>\n",
       "    <tr>\n",
       "      <th>36</th>\n",
       "      <td>0</td>\n",
       "      <td>Comoros</td>\n",
       "      <td>769</td>\n",
       "      <td>1410</td>\n",
       "      <td>4.51</td>\n",
       "    </tr>\n",
       "    <tr>\n",
       "      <th>37</th>\n",
       "      <td>0</td>\n",
       "      <td>Congo, Dem. Rep.</td>\n",
       "      <td>334</td>\n",
       "      <td>609</td>\n",
       "      <td>7.91</td>\n",
       "    </tr>\n",
       "    <tr>\n",
       "      <th>40</th>\n",
       "      <td>0</td>\n",
       "      <td>Cote d'Ivoire</td>\n",
       "      <td>1220</td>\n",
       "      <td>2690</td>\n",
       "      <td>5.30</td>\n",
       "    </tr>\n",
       "    <tr>\n",
       "      <th>50</th>\n",
       "      <td>0</td>\n",
       "      <td>Eritrea</td>\n",
       "      <td>482</td>\n",
       "      <td>1420</td>\n",
       "      <td>2.66</td>\n",
       "    </tr>\n",
       "    <tr>\n",
       "      <th>56</th>\n",
       "      <td>0</td>\n",
       "      <td>Gambia</td>\n",
       "      <td>562</td>\n",
       "      <td>1660</td>\n",
       "      <td>5.69</td>\n",
       "    </tr>\n",
       "    <tr>\n",
       "      <th>59</th>\n",
       "      <td>0</td>\n",
       "      <td>Ghana</td>\n",
       "      <td>1310</td>\n",
       "      <td>3060</td>\n",
       "      <td>5.22</td>\n",
       "    </tr>\n",
       "    <tr>\n",
       "      <th>63</th>\n",
       "      <td>0</td>\n",
       "      <td>Guinea</td>\n",
       "      <td>648</td>\n",
       "      <td>1190</td>\n",
       "      <td>4.93</td>\n",
       "    </tr>\n",
       "    <tr>\n",
       "      <th>64</th>\n",
       "      <td>0</td>\n",
       "      <td>Guinea-Bissau</td>\n",
       "      <td>547</td>\n",
       "      <td>1390</td>\n",
       "      <td>8.50</td>\n",
       "    </tr>\n",
       "    <tr>\n",
       "      <th>66</th>\n",
       "      <td>0</td>\n",
       "      <td>Haiti</td>\n",
       "      <td>662</td>\n",
       "      <td>1500</td>\n",
       "      <td>6.91</td>\n",
       "    </tr>\n",
       "    <tr>\n",
       "      <th>80</th>\n",
       "      <td>0</td>\n",
       "      <td>Kenya</td>\n",
       "      <td>967</td>\n",
       "      <td>2480</td>\n",
       "      <td>4.75</td>\n",
       "    </tr>\n",
       "    <tr>\n",
       "      <th>81</th>\n",
       "      <td>0</td>\n",
       "      <td>Kiribati</td>\n",
       "      <td>1490</td>\n",
       "      <td>1730</td>\n",
       "      <td>11.30</td>\n",
       "    </tr>\n",
       "    <tr>\n",
       "      <th>83</th>\n",
       "      <td>0</td>\n",
       "      <td>Kyrgyz Republic</td>\n",
       "      <td>880</td>\n",
       "      <td>2790</td>\n",
       "      <td>6.18</td>\n",
       "    </tr>\n",
       "    <tr>\n",
       "      <th>84</th>\n",
       "      <td>0</td>\n",
       "      <td>Lao</td>\n",
       "      <td>1140</td>\n",
       "      <td>3980</td>\n",
       "      <td>4.47</td>\n",
       "    </tr>\n",
       "    <tr>\n",
       "      <th>87</th>\n",
       "      <td>0</td>\n",
       "      <td>Lesotho</td>\n",
       "      <td>1170</td>\n",
       "      <td>2380</td>\n",
       "      <td>11.10</td>\n",
       "    </tr>\n",
       "    <tr>\n",
       "      <th>88</th>\n",
       "      <td>0</td>\n",
       "      <td>Liberia</td>\n",
       "      <td>327</td>\n",
       "      <td>700</td>\n",
       "      <td>11.80</td>\n",
       "    </tr>\n",
       "    <tr>\n",
       "      <th>93</th>\n",
       "      <td>0</td>\n",
       "      <td>Madagascar</td>\n",
       "      <td>413</td>\n",
       "      <td>1390</td>\n",
       "      <td>3.77</td>\n",
       "    </tr>\n",
       "    <tr>\n",
       "      <th>94</th>\n",
       "      <td>0</td>\n",
       "      <td>Malawi</td>\n",
       "      <td>459</td>\n",
       "      <td>1030</td>\n",
       "      <td>6.59</td>\n",
       "    </tr>\n",
       "    <tr>\n",
       "      <th>97</th>\n",
       "      <td>0</td>\n",
       "      <td>Mali</td>\n",
       "      <td>708</td>\n",
       "      <td>1870</td>\n",
       "      <td>4.98</td>\n",
       "    </tr>\n",
       "    <tr>\n",
       "      <th>99</th>\n",
       "      <td>0</td>\n",
       "      <td>Mauritania</td>\n",
       "      <td>1200</td>\n",
       "      <td>3320</td>\n",
       "      <td>4.41</td>\n",
       "    </tr>\n",
       "    <tr>\n",
       "      <th>101</th>\n",
       "      <td>0</td>\n",
       "      <td>Micronesia, Fed. Sts.</td>\n",
       "      <td>2860</td>\n",
       "      <td>3340</td>\n",
       "      <td>14.20</td>\n",
       "    </tr>\n",
       "    <tr>\n",
       "      <th>102</th>\n",
       "      <td>0</td>\n",
       "      <td>Moldova</td>\n",
       "      <td>1630</td>\n",
       "      <td>3910</td>\n",
       "      <td>11.70</td>\n",
       "    </tr>\n",
       "    <tr>\n",
       "      <th>106</th>\n",
       "      <td>0</td>\n",
       "      <td>Mozambique</td>\n",
       "      <td>419</td>\n",
       "      <td>918</td>\n",
       "      <td>5.21</td>\n",
       "    </tr>\n",
       "    <tr>\n",
       "      <th>107</th>\n",
       "      <td>0</td>\n",
       "      <td>Myanmar</td>\n",
       "      <td>988</td>\n",
       "      <td>3720</td>\n",
       "      <td>1.97</td>\n",
       "    </tr>\n",
       "    <tr>\n",
       "      <th>109</th>\n",
       "      <td>0</td>\n",
       "      <td>Nepal</td>\n",
       "      <td>592</td>\n",
       "      <td>1990</td>\n",
       "      <td>5.25</td>\n",
       "    </tr>\n",
       "    <tr>\n",
       "      <th>112</th>\n",
       "      <td>0</td>\n",
       "      <td>Niger</td>\n",
       "      <td>348</td>\n",
       "      <td>814</td>\n",
       "      <td>5.16</td>\n",
       "    </tr>\n",
       "    <tr>\n",
       "      <th>116</th>\n",
       "      <td>0</td>\n",
       "      <td>Pakistan</td>\n",
       "      <td>1040</td>\n",
       "      <td>4280</td>\n",
       "      <td>2.20</td>\n",
       "    </tr>\n",
       "    <tr>\n",
       "      <th>126</th>\n",
       "      <td>0</td>\n",
       "      <td>Rwanda</td>\n",
       "      <td>563</td>\n",
       "      <td>1350</td>\n",
       "      <td>10.50</td>\n",
       "    </tr>\n",
       "    <tr>\n",
       "      <th>129</th>\n",
       "      <td>0</td>\n",
       "      <td>Senegal</td>\n",
       "      <td>1000</td>\n",
       "      <td>2180</td>\n",
       "      <td>5.66</td>\n",
       "    </tr>\n",
       "    <tr>\n",
       "      <th>132</th>\n",
       "      <td>0</td>\n",
       "      <td>Sierra Leone</td>\n",
       "      <td>399</td>\n",
       "      <td>1220</td>\n",
       "      <td>13.10</td>\n",
       "    </tr>\n",
       "    <tr>\n",
       "      <th>136</th>\n",
       "      <td>0</td>\n",
       "      <td>Solomon Islands</td>\n",
       "      <td>1290</td>\n",
       "      <td>1780</td>\n",
       "      <td>8.55</td>\n",
       "    </tr>\n",
       "    <tr>\n",
       "      <th>142</th>\n",
       "      <td>0</td>\n",
       "      <td>Sudan</td>\n",
       "      <td>1480</td>\n",
       "      <td>3370</td>\n",
       "      <td>6.32</td>\n",
       "    </tr>\n",
       "    <tr>\n",
       "      <th>146</th>\n",
       "      <td>0</td>\n",
       "      <td>Tajikistan</td>\n",
       "      <td>738</td>\n",
       "      <td>2110</td>\n",
       "      <td>5.98</td>\n",
       "    </tr>\n",
       "    <tr>\n",
       "      <th>147</th>\n",
       "      <td>0</td>\n",
       "      <td>Tanzania</td>\n",
       "      <td>702</td>\n",
       "      <td>2090</td>\n",
       "      <td>6.01</td>\n",
       "    </tr>\n",
       "    <tr>\n",
       "      <th>149</th>\n",
       "      <td>0</td>\n",
       "      <td>Timor-Leste</td>\n",
       "      <td>3600</td>\n",
       "      <td>1850</td>\n",
       "      <td>9.12</td>\n",
       "    </tr>\n",
       "    <tr>\n",
       "      <th>150</th>\n",
       "      <td>0</td>\n",
       "      <td>Togo</td>\n",
       "      <td>488</td>\n",
       "      <td>1210</td>\n",
       "      <td>7.65</td>\n",
       "    </tr>\n",
       "    <tr>\n",
       "      <th>155</th>\n",
       "      <td>0</td>\n",
       "      <td>Uganda</td>\n",
       "      <td>595</td>\n",
       "      <td>1540</td>\n",
       "      <td>9.01</td>\n",
       "    </tr>\n",
       "    <tr>\n",
       "      <th>161</th>\n",
       "      <td>0</td>\n",
       "      <td>Uzbekistan</td>\n",
       "      <td>1380</td>\n",
       "      <td>4240</td>\n",
       "      <td>5.81</td>\n",
       "    </tr>\n",
       "    <tr>\n",
       "      <th>162</th>\n",
       "      <td>0</td>\n",
       "      <td>Vanuatu</td>\n",
       "      <td>2970</td>\n",
       "      <td>2950</td>\n",
       "      <td>5.25</td>\n",
       "    </tr>\n",
       "    <tr>\n",
       "      <th>166</th>\n",
       "      <td>0</td>\n",
       "      <td>Zambia</td>\n",
       "      <td>1460</td>\n",
       "      <td>3280</td>\n",
       "      <td>5.89</td>\n",
       "    </tr>\n",
       "  </tbody>\n",
       "</table>\n",
       "</div>"
      ],
      "text/plain": [
       "     Cluster                   Country  gdpp  income  health\n",
       "0          0               Afghanistan   553    1610    7.58\n",
       "12         0                Bangladesh   758    2440    3.52\n",
       "17         0                     Benin   758    1820    4.10\n",
       "25         0              Burkina Faso   575    1430    6.74\n",
       "26         0                   Burundi   231     764   11.60\n",
       "27         0                  Cambodia   786    2520    5.68\n",
       "28         0                  Cameroon  1310    2660    5.13\n",
       "31         0  Central African Republic   446     888    3.98\n",
       "32         0                      Chad   897    1930    4.53\n",
       "36         0                   Comoros   769    1410    4.51\n",
       "37         0          Congo, Dem. Rep.   334     609    7.91\n",
       "40         0             Cote d'Ivoire  1220    2690    5.30\n",
       "50         0                   Eritrea   482    1420    2.66\n",
       "56         0                    Gambia   562    1660    5.69\n",
       "59         0                     Ghana  1310    3060    5.22\n",
       "63         0                    Guinea   648    1190    4.93\n",
       "64         0             Guinea-Bissau   547    1390    8.50\n",
       "66         0                     Haiti   662    1500    6.91\n",
       "80         0                     Kenya   967    2480    4.75\n",
       "81         0                  Kiribati  1490    1730   11.30\n",
       "83         0           Kyrgyz Republic   880    2790    6.18\n",
       "84         0                       Lao  1140    3980    4.47\n",
       "87         0                   Lesotho  1170    2380   11.10\n",
       "88         0                   Liberia   327     700   11.80\n",
       "93         0                Madagascar   413    1390    3.77\n",
       "94         0                    Malawi   459    1030    6.59\n",
       "97         0                      Mali   708    1870    4.98\n",
       "99         0                Mauritania  1200    3320    4.41\n",
       "101        0     Micronesia, Fed. Sts.  2860    3340   14.20\n",
       "102        0                   Moldova  1630    3910   11.70\n",
       "106        0                Mozambique   419     918    5.21\n",
       "107        0                   Myanmar   988    3720    1.97\n",
       "109        0                     Nepal   592    1990    5.25\n",
       "112        0                     Niger   348     814    5.16\n",
       "116        0                  Pakistan  1040    4280    2.20\n",
       "126        0                    Rwanda   563    1350   10.50\n",
       "129        0                   Senegal  1000    2180    5.66\n",
       "132        0              Sierra Leone   399    1220   13.10\n",
       "136        0           Solomon Islands  1290    1780    8.55\n",
       "142        0                     Sudan  1480    3370    6.32\n",
       "146        0                Tajikistan   738    2110    5.98\n",
       "147        0                  Tanzania   702    2090    6.01\n",
       "149        0               Timor-Leste  3600    1850    9.12\n",
       "150        0                      Togo   488    1210    7.65\n",
       "155        0                    Uganda   595    1540    9.01\n",
       "161        0                Uzbekistan  1380    4240    5.81\n",
       "162        0                   Vanuatu  2970    2950    5.25\n",
       "166        0                    Zambia  1460    3280    5.89"
      ]
     },
     "execution_count": 22,
     "metadata": {},
     "output_type": "execute_result"
    }
   ],
   "source": [
    "cleaned_df8[cleaned_df8.Cluster==0]"
   ]
  }
 ],
 "metadata": {
  "kernelspec": {
   "display_name": "Python 3 (ipykernel)",
   "language": "python",
   "name": "python3"
  },
  "language_info": {
   "codemirror_mode": {
    "name": "ipython",
    "version": 3
   },
   "file_extension": ".py",
   "mimetype": "text/x-python",
   "name": "python",
   "nbconvert_exporter": "python",
   "pygments_lexer": "ipython3",
   "version": "3.7.6"
  }
 },
 "nbformat": 4,
 "nbformat_minor": 5
}
