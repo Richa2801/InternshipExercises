{
 "cells": [
  {
   "cell_type": "markdown",
   "id": "c6eda6ab",
   "metadata": {},
   "source": [
    "# Credit Fraud Imbalanced dataset\n",
    "## Light GBM"
   ]
  },
  {
   "cell_type": "code",
   "execution_count": 1,
   "id": "537cf5ed",
   "metadata": {},
   "outputs": [],
   "source": [
    "import pandas as pd\n",
    "import numpy as np\n",
    "import lightgbm as lgb\n",
    "import pickle\n",
    "from imblearn.over_sampling import SMOTE"
   ]
  },
  {
   "cell_type": "code",
   "execution_count": 1,
   "id": "acd1c6d9",
   "metadata": {},
   "outputs": [],
   "source": [
    "from lightgbm import LGBMClassifier"
   ]
  },
  {
   "cell_type": "code",
   "execution_count": 3,
   "id": "c7cbd9f8",
   "metadata": {},
   "outputs": [],
   "source": [
    "df = pd.read_csv('C:/Users/admin/Downloads/credit_dataset.csv', index_col=False)"
   ]
  },
  {
   "cell_type": "code",
   "execution_count": 4,
   "id": "f35051bf",
   "metadata": {},
   "outputs": [],
   "source": [
    "# Converting into type int for simplicity\n",
    "df['FAMILY SIZE'] = df['FAMILY SIZE'].astype(int)"
   ]
  },
  {
   "cell_type": "code",
   "execution_count": 5,
   "id": "1f715ffd",
   "metadata": {},
   "outputs": [
    {
     "name": "stdout",
     "output_type": "stream",
     "text": [
      "{'F': 0, 'M': 1}\n",
      "{'N': 0, 'Y': 1}\n",
      "{'N': 0, 'Y': 1}\n",
      "{'Commercial associate': 0, 'Pensioner': 1, 'State servant': 2, 'Student': 3, 'Working': 4}\n",
      "{'Academic degree': 0, 'Higher education': 1, 'Incomplete higher': 2, 'Lower secondary': 3, 'Secondary / secondary special': 4}\n",
      "{'Civil marriage': 0, 'Married': 1, 'Separated': 2, 'Single / not married': 3, 'Widow': 4}\n",
      "{'Co-op apartment': 0, 'House / apartment': 1, 'Municipal apartment': 2, 'Office apartment': 3, 'Rented apartment': 4, 'With parents': 5}\n"
     ]
    }
   ],
   "source": [
    "# label encoding\n",
    "from sklearn.preprocessing import LabelEncoder\n",
    "le = LabelEncoder()\n",
    "label_df = df.copy()\n",
    "s = (df.dtypes == 'object')\n",
    "object_cols = list(s[s].index)\n",
    "for row in object_cols:\n",
    "    label_df[row] = le.fit_transform(df[row])\n",
    "    le_name_mapping = dict(zip(le.classes_, le.transform(le.classes_)))\n",
    "    print(le_name_mapping)"
   ]
  },
  {
   "cell_type": "code",
   "execution_count": 6,
   "id": "e95bf3ac",
   "metadata": {},
   "outputs": [
    {
     "data": {
      "text/html": [
       "<div>\n",
       "<style scoped>\n",
       "    .dataframe tbody tr th:only-of-type {\n",
       "        vertical-align: middle;\n",
       "    }\n",
       "\n",
       "    .dataframe tbody tr th {\n",
       "        vertical-align: top;\n",
       "    }\n",
       "\n",
       "    .dataframe thead th {\n",
       "        text-align: right;\n",
       "    }\n",
       "</style>\n",
       "<table border=\"1\" class=\"dataframe\">\n",
       "  <thead>\n",
       "    <tr style=\"text-align: right;\">\n",
       "      <th></th>\n",
       "      <th>CAR</th>\n",
       "      <th>INCOME</th>\n",
       "      <th>INCOME_TYPE</th>\n",
       "      <th>EDUCATION_TYPE</th>\n",
       "      <th>FAMILY_TYPE</th>\n",
       "      <th>PHONE</th>\n",
       "      <th>FAMILY SIZE</th>\n",
       "      <th>BEGIN_MONTH</th>\n",
       "      <th>AGE</th>\n",
       "      <th>YEARS_EMPLOYED</th>\n",
       "      <th>TARGET</th>\n",
       "    </tr>\n",
       "  </thead>\n",
       "  <tbody>\n",
       "    <tr>\n",
       "      <th>0</th>\n",
       "      <td>1</td>\n",
       "      <td>112500.0</td>\n",
       "      <td>4</td>\n",
       "      <td>4</td>\n",
       "      <td>1</td>\n",
       "      <td>0</td>\n",
       "      <td>2</td>\n",
       "      <td>29</td>\n",
       "      <td>59</td>\n",
       "      <td>3</td>\n",
       "      <td>0</td>\n",
       "    </tr>\n",
       "    <tr>\n",
       "      <th>1</th>\n",
       "      <td>0</td>\n",
       "      <td>270000.0</td>\n",
       "      <td>0</td>\n",
       "      <td>4</td>\n",
       "      <td>3</td>\n",
       "      <td>1</td>\n",
       "      <td>1</td>\n",
       "      <td>4</td>\n",
       "      <td>52</td>\n",
       "      <td>8</td>\n",
       "      <td>0</td>\n",
       "    </tr>\n",
       "    <tr>\n",
       "      <th>2</th>\n",
       "      <td>0</td>\n",
       "      <td>270000.0</td>\n",
       "      <td>0</td>\n",
       "      <td>4</td>\n",
       "      <td>3</td>\n",
       "      <td>1</td>\n",
       "      <td>1</td>\n",
       "      <td>26</td>\n",
       "      <td>52</td>\n",
       "      <td>8</td>\n",
       "      <td>0</td>\n",
       "    </tr>\n",
       "    <tr>\n",
       "      <th>3</th>\n",
       "      <td>0</td>\n",
       "      <td>270000.0</td>\n",
       "      <td>0</td>\n",
       "      <td>4</td>\n",
       "      <td>3</td>\n",
       "      <td>1</td>\n",
       "      <td>1</td>\n",
       "      <td>26</td>\n",
       "      <td>52</td>\n",
       "      <td>8</td>\n",
       "      <td>0</td>\n",
       "    </tr>\n",
       "    <tr>\n",
       "      <th>4</th>\n",
       "      <td>0</td>\n",
       "      <td>270000.0</td>\n",
       "      <td>0</td>\n",
       "      <td>4</td>\n",
       "      <td>3</td>\n",
       "      <td>1</td>\n",
       "      <td>1</td>\n",
       "      <td>38</td>\n",
       "      <td>52</td>\n",
       "      <td>8</td>\n",
       "      <td>0</td>\n",
       "    </tr>\n",
       "  </tbody>\n",
       "</table>\n",
       "</div>"
      ],
      "text/plain": [
       "   CAR    INCOME  INCOME_TYPE  EDUCATION_TYPE  FAMILY_TYPE  PHONE  \\\n",
       "0    1  112500.0            4               4            1      0   \n",
       "1    0  270000.0            0               4            3      1   \n",
       "2    0  270000.0            0               4            3      1   \n",
       "3    0  270000.0            0               4            3      1   \n",
       "4    0  270000.0            0               4            3      1   \n",
       "\n",
       "   FAMILY SIZE  BEGIN_MONTH  AGE  YEARS_EMPLOYED  TARGET  \n",
       "0            2           29   59               3       0  \n",
       "1            1            4   52               8       0  \n",
       "2            1           26   52               8       0  \n",
       "3            1           26   52               8       0  \n",
       "4            1           38   52               8       0  "
      ]
     },
     "execution_count": 6,
     "metadata": {},
     "output_type": "execute_result"
    }
   ],
   "source": [
    "label_df.drop(label_df.columns[0], axis=1, inplace=True)\n",
    "label_df.drop(['ID', 'GENDER', 'REALITY','NO_OF_CHILD', 'HOUSE_TYPE', 'FLAG_MOBIL', 'WORK_PHONE', 'E_MAIL'], axis=1, inplace=True)\n",
    "label_df.head()"
   ]
  },
  {
   "cell_type": "code",
   "execution_count": 7,
   "id": "e427debb",
   "metadata": {},
   "outputs": [],
   "source": [
    "#Dropping the values greater the 20\n",
    "label_df=label_df[label_df['YEARS_EMPLOYED'] < 20]"
   ]
  },
  {
   "cell_type": "code",
   "execution_count": 8,
   "id": "ca7f75cd",
   "metadata": {},
   "outputs": [],
   "source": [
    "#removing values those are greater then 600000\n",
    "label_df=label_df[label_df['INCOME'] < 600000]"
   ]
  },
  {
   "cell_type": "code",
   "execution_count": 10,
   "id": "8f310389",
   "metadata": {},
   "outputs": [
    {
     "name": "stdout",
     "output_type": "stream",
     "text": [
      "(404, 11)\n",
      "(22957, 11)\n"
     ]
    }
   ],
   "source": [
    "print(label_df[label_df[\"TARGET\"] == 1].shape)\n",
    "print(label_df[label_df[\"TARGET\"] == 0].shape)"
   ]
  },
  {
   "cell_type": "code",
   "execution_count": 11,
   "id": "9f85c5ce",
   "metadata": {},
   "outputs": [],
   "source": [
    "# Choosing features and Target for training and testing\n",
    "X = label_df.copy()\n",
    "y = X.pop('TARGET')"
   ]
  },
  {
   "cell_type": "code",
   "execution_count": 15,
   "id": "5afe1d5e",
   "metadata": {},
   "outputs": [],
   "source": [
    "X_smote,y_smote=SMOTE().fit_resample(X,y)"
   ]
  },
  {
   "cell_type": "code",
   "execution_count": 16,
   "id": "ebf4f554",
   "metadata": {},
   "outputs": [
    {
     "name": "stdout",
     "output_type": "stream",
     "text": [
      "X (45914, 10)\n",
      "y (45914,)\n"
     ]
    }
   ],
   "source": [
    "#shape of dataset after using SMOTE\n",
    "print(\"X\",X_smote.shape)\n",
    "print(\"y\",y_smote.shape)"
   ]
  },
  {
   "cell_type": "code",
   "execution_count": 17,
   "id": "0eed8d1e",
   "metadata": {},
   "outputs": [],
   "source": [
    "# Splitting the dataset into train and test\n",
    "from sklearn.model_selection import train_test_split\n",
    "xtrain, xtest, ytrain, ytest = train_test_split(X_smote, y_smote, test_size = 0.25, random_state = 99)"
   ]
  },
  {
   "cell_type": "code",
   "execution_count": 18,
   "id": "4ca90d9f",
   "metadata": {},
   "outputs": [
    {
     "name": "stdout",
     "output_type": "stream",
     "text": [
      "\n",
      "Target on train data [1 0 0 ... 1 1 1]\n",
      "\n",
      "accuracy_score:  0.9324854081365973\n"
     ]
    }
   ],
   "source": [
    "model = LGBMClassifier()\n",
    "# fit the model with the training data\n",
    "model.fit(xtrain,ytrain)\n",
    "\n",
    "# predict the target on the train dataset\n",
    "y_pred = model.predict(xtest)\n",
    "print('\\nTarget on train data',y_pred) \n",
    "\n",
    "from sklearn.metrics import accuracy_score\n",
    "# Accuray Score on train dataset\n",
    "result = accuracy_score(ytest,y_pred)\n",
    "print('\\naccuracy_score: ', result)"
   ]
  },
  {
   "cell_type": "code",
   "execution_count": 19,
   "id": "6be13ce7",
   "metadata": {},
   "outputs": [
    {
     "name": "stdout",
     "output_type": "stream",
     "text": [
      "Confusion Matrix : \n",
      " [[5288  417]\n",
      " [ 358 5416]]\n"
     ]
    }
   ],
   "source": [
    "# Confusion Matrix\n",
    "\n",
    "from sklearn.metrics import confusion_matrix\n",
    "cm = confusion_matrix(ytest, y_pred)\n",
    "  \n",
    "print (\"Confusion Matrix : \\n\", cm)"
   ]
  },
  {
   "cell_type": "code",
   "execution_count": 22,
   "id": "40e466b7",
   "metadata": {},
   "outputs": [
    {
     "name": "stdout",
     "output_type": "stream",
     "text": [
      "              precision    recall  f1-score   support\n",
      "\n",
      "           0       0.93      0.94      0.93      5646\n",
      "           1       0.94      0.93      0.93      5833\n",
      "\n",
      "    accuracy                           0.93     11479\n",
      "   macro avg       0.93      0.93      0.93     11479\n",
      "weighted avg       0.93      0.93      0.93     11479\n",
      "\n"
     ]
    }
   ],
   "source": [
    "from sklearn import metrics\n",
    "print(metrics.classification_report(y_pred,ytest))"
   ]
  },
  {
   "cell_type": "code",
   "execution_count": 23,
   "id": "f3b330b8",
   "metadata": {},
   "outputs": [],
   "source": [
    "filename = 'LightGBM_model.pkl'\n",
    "pickle.dump(model, open(filename, 'wb'))"
   ]
  }
 ],
 "metadata": {
  "kernelspec": {
   "display_name": "Python 3 (ipykernel)",
   "language": "python",
   "name": "python3"
  },
  "language_info": {
   "codemirror_mode": {
    "name": "ipython",
    "version": 3
   },
   "file_extension": ".py",
   "mimetype": "text/x-python",
   "name": "python",
   "nbconvert_exporter": "python",
   "pygments_lexer": "ipython3",
   "version": "3.7.6"
  }
 },
 "nbformat": 4,
 "nbformat_minor": 5
}
